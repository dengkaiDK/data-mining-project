{
 "cells": [
  {
   "cell_type": "code",
   "execution_count": 1,
   "metadata": {},
   "outputs": [],
   "source": [
    "import pandas as pd \n",
    "import numpy as np\n",
    "import matplotlib.pyplot as plt"
   ]
  },
  {
   "cell_type": "code",
   "execution_count": 2,
   "metadata": {},
   "outputs": [],
   "source": [
    "train = pd.read_csv('train.csv')\n",
    "test = pd.read_csv('test.csv')"
   ]
  },
  {
   "cell_type": "code",
   "execution_count": 3,
   "metadata": {},
   "outputs": [
    {
     "name": "stdout",
     "output_type": "stream",
     "text": [
      "object\n",
      "count      416962\n",
      "unique      32734\n",
      "top       5892179\n",
      "freq         1063\n",
      "Name: product_id, dtype: int64\n",
      "\n",
      "object\n",
      "count        5164\n",
      "unique       2691\n",
      "top       5700037\n",
      "freq           28\n",
      "Name: product_id, dtype: int64\n"
     ]
    }
   ],
   "source": [
    "train['product_id'] = train['product_id'].astype('object')\n",
    "print(train['product_id'].dtype)\n",
    "print(train['product_id'].describe())\n",
    "print()\n",
    "\n",
    "test['product_id'] = test['product_id'].astype('object')\n",
    "print(test['product_id'].dtype)\n",
    "print(test['product_id'].describe())"
   ]
  },
  {
   "cell_type": "code",
   "execution_count": 4,
   "metadata": {},
   "outputs": [
    {
     "name": "stdout",
     "output_type": "stream",
     "text": [
      "object\n",
      "count     416962\n",
      "unique     53975\n",
      "top         6607\n",
      "freq        2355\n",
      "Name: user_id, dtype: int64\n",
      "\n",
      "object\n",
      "count      5164\n",
      "unique      558\n",
      "top       54193\n",
      "freq        141\n",
      "Name: user_id, dtype: int64\n"
     ]
    }
   ],
   "source": [
    "train['user_id'] = train['user_id'].astype('object')\n",
    "print(train['user_id'].dtype)\n",
    "print(train['user_id'].describe())\n",
    "print()\n",
    "\n",
    "test['user_id'] = test['user_id'].astype('object')\n",
    "print(test['user_id'].dtype)\n",
    "print(test['user_id'].describe())"
   ]
  },
  {
   "cell_type": "code",
   "execution_count": 5,
   "metadata": {},
   "outputs": [
    {
     "name": "stdout",
     "output_type": "stream",
     "text": [
      "0\n",
      "0\n"
     ]
    }
   ],
   "source": [
    "train.fillna(value={'brand':'null'},inplace=True)\n",
    "print(train['brand'].isnull().sum())\n",
    "\n",
    "test.fillna(value={'brand':'null'},inplace=True)\n",
    "print(test['brand'].isnull().sum())"
   ]
  },
  {
   "cell_type": "code",
   "execution_count": 6,
   "metadata": {},
   "outputs": [
    {
     "name": "stdout",
     "output_type": "stream",
     "text": [
      "datetime64[ns]\n",
      "0   2019-10-01 00:00:00\n",
      "1   2019-10-01 00:00:03\n",
      "2   2019-10-01 00:00:07\n",
      "3   2019-10-01 00:02:32\n",
      "4   2019-10-01 00:02:40\n",
      "Name: event_time, dtype: datetime64[ns]\n",
      "\n",
      "datetime64[ns]\n",
      "0   2019-10-03 08:14:04\n",
      "1   2019-10-03 08:14:41\n",
      "2   2019-10-03 08:14:08\n",
      "3   2019-10-03 08:17:21\n",
      "4   2019-10-03 08:17:24\n",
      "Name: event_time, dtype: datetime64[ns]\n"
     ]
    }
   ],
   "source": [
    "import datetime\n",
    "\n",
    "index_len = len(train.index)\n",
    "date_list = []\n",
    "\n",
    "for i in range(index_len):\n",
    "    date_str = train['event_time'][i]\n",
    "    date_list.append(datetime.datetime.strptime(date_str[0:19],'%Y-%m-%d %H:%M:%S'))\n",
    "\n",
    "train['event_time'] = pd.DataFrame(date_list)\n",
    "print(train['event_time'].dtype)\n",
    "print(train['event_time'].head())\n",
    "print()\n",
    "\n",
    "index_len = len(test.index)\n",
    "date_list = []\n",
    "\n",
    "for i in range(index_len):\n",
    "    date_str = test['event_time'][i]\n",
    "    date_list.append(datetime.datetime.strptime(date_str[0:19],'%Y-%m-%d %H:%M:%S'))\n",
    "\n",
    "test['event_time'] = pd.DataFrame(date_list)\n",
    "print(test['event_time'].dtype)\n",
    "print(test['event_time'].head())"
   ]
  },
  {
   "cell_type": "code",
   "execution_count": 7,
   "metadata": {},
   "outputs": [],
   "source": [
    "train = train.drop(train[train['price'] < 0].index)\n",
    "test = test.drop(test[test['price'] < 0].index)"
   ]
  },
  {
   "cell_type": "code",
   "execution_count": 8,
   "metadata": {},
   "outputs": [
    {
     "data": {
      "image/png": "[encoded data removed]",
      "text/plain": [
       "<Figure size 432x288 with 1 Axes>"
      ]
     },
     "metadata": {
      "needs_background": "light"
     },
     "output_type": "display_data"
    },
    {
     "data": {
      "image/png": "[encoded data removed]",
      "text/plain": [
       "<Figure size 432x288 with 1 Axes>"
      ]
     },
     "metadata": {
      "needs_background": "light"
     },
     "output_type": "display_data"
    }
   ],
   "source": [
    "train_price = train['price']\n",
    "test_price = test['price']\n",
    "\n",
    "plt.xlabel(\"train_price\")\n",
    "plt.ylabel(\"value\")\n",
    "plt.boxplot(train_price,sym=\"o\",whis=1.5)\n",
    "plt.show()\n",
    "\n",
    "plt.xlabel(\"test_price\")\n",
    "plt.ylabel(\"value\")\n",
    "plt.boxplot(test_price,sym=\"o\",whis=1.5)\n",
    "plt.show()"
   ]
  },
  {
   "cell_type": "code",
   "execution_count": 9,
   "metadata": {},
   "outputs": [
    {
     "data": {
      "image/png": "[encoded data removed]",
      "text/plain": [
       "<Figure size 432x288 with 1 Axes>"
      ]
     },
     "metadata": {
      "needs_background": "light"
     },
     "output_type": "display_data"
    },
    {
     "data": {
      "image/png": "[encoded data removed]",
      "text/plain": [
       "<Figure size 432x288 with 1 Axes>"
      ]
     },
     "metadata": {
      "needs_background": "light"
     },
     "output_type": "display_data"
    }
   ],
   "source": [
    "size, scale = 1000, 10\n",
    "train_price.plot.hist(grid=True, bins=20, rwidth=0.9,\n",
    "                   color='#607c8e')\n",
    "plt.title('train_price')\n",
    "plt.xlabel('price')\n",
    "plt.ylabel('frequency')\n",
    "plt.grid(axis='y', alpha=0.75)\n",
    "plt.show()\n",
    "\n",
    "size, scale = 1000, 10\n",
    "test_price.plot.hist(grid=True, bins=20, rwidth=0.9,\n",
    "                   color='#607c8e')\n",
    "plt.title('test_price')\n",
    "plt.xlabel('price')\n",
    "plt.ylabel('frequency')\n",
    "plt.grid(axis='y', alpha=0.75)\n",
    "plt.show()"
   ]
  },
  {
   "cell_type": "code",
   "execution_count": 10,
   "metadata": {},
   "outputs": [
    {
     "name": "stdout",
     "output_type": "stream",
     "text": [
      "train_price:\n",
      "count    416960.000000\n",
      "mean          8.290777\n",
      "std          17.846924\n",
      "min           0.000000\n",
      "25%           2.370000\n",
      "50%           4.110000\n",
      "75%           7.270000\n",
      "max         299.810000\n",
      "Name: price, dtype: float64\n",
      "\n",
      "test_price:\n",
      "count    5164.000000\n",
      "mean        7.135132\n",
      "std        14.216354\n",
      "min         0.000000\n",
      "25%         2.050000\n",
      "50%         3.800000\n",
      "75%         6.270000\n",
      "max       207.940000\n",
      "Name: price, dtype: float64\n"
     ]
    }
   ],
   "source": [
    "print('train_price:')\n",
    "print(train_price.describe())\n",
    "print()\n",
    "print('test_price:')\n",
    "print(test_price.describe())"
   ]
  },
  {
   "cell_type": "code",
   "execution_count": 11,
   "metadata": {},
   "outputs": [],
   "source": [
    "train.loc[(train['price']>=0)&(train['price']<2),'price'] = 1\n",
    "train.loc[(train['price']>=2)&(train['price']<3.5),'price'] = 2\n",
    "train.loc[(train['price']>=3.5)&(train['price']<5.5),'price'] = 3\n",
    "train.loc[(train['price']>=5.5)&(train['price']<10),'price'] = 4\n",
    "train.loc[train['price']>=10,'price'] = 5"
   ]
  },
  {
   "cell_type": "code",
   "execution_count": 12,
   "metadata": {},
   "outputs": [],
   "source": [
    "test.loc[(test['price']>=0)&(test['price']<2),'price'] = 1\n",
    "test.loc[(test['price']>=2)&(test['price']<3.5),'price'] = 2\n",
    "test.loc[(test['price']>=3.5)&(test['price']<5.5),'price'] = 3\n",
    "test.loc[(test['price']>=5.5)&(test['price']<10),'price'] = 4\n",
    "test.loc[test['price']>=10,'price'] = 5"
   ]
  },
  {
   "cell_type": "code",
   "execution_count": 13,
   "metadata": {},
   "outputs": [
    {
     "name": "stdout",
     "output_type": "stream",
     "text": [
      "object\n",
      "count     416960.0\n",
      "unique         5.0\n",
      "top            1.0\n",
      "freq       89337.0\n",
      "Name: price, dtype: float64\n",
      "\n",
      "object\n",
      "count     5164.0\n",
      "unique       5.0\n",
      "top          2.0\n",
      "freq      1294.0\n",
      "Name: price, dtype: float64\n"
     ]
    }
   ],
   "source": [
    "train['price'] = train['price'].astype('object')\n",
    "print(train['price'].dtype)\n",
    "print(train['price'].describe())\n",
    "print()\n",
    "\n",
    "test['price'] = test['price'].astype('object')\n",
    "print(test['price'].dtype)\n",
    "print(test['price'].describe())"
   ]
  },
  {
   "cell_type": "code",
   "execution_count": 14,
   "metadata": {},
   "outputs": [
    {
     "data": {
      "image/png": "[encoded data removed]",
      "text/plain": [
       "<Figure size 432x288 with 1 Axes>"
      ]
     },
     "metadata": {
      "needs_background": "light"
     },
     "output_type": "display_data"
    },
    {
     "data": {
      "image/png": "[encoded data removed]",
      "text/plain": [
       "<Figure size 432x288 with 1 Axes>"
      ]
     },
     "metadata": {
      "needs_background": "light"
     },
     "output_type": "display_data"
    }
   ],
   "source": [
    "size, scale = 1000, 10\n",
    "train['price'].plot.hist(grid=True, bins=20, rwidth=0.9,\n",
    "                   color='#607c8e')\n",
    "plt.title('Train Discret Price')\n",
    "plt.xlabel('Discret Price')\n",
    "plt.ylabel('Frequency')\n",
    "plt.grid(axis='y', alpha=0.75)\n",
    "plt.show()\n",
    "\n",
    "size, scale = 1000, 10\n",
    "test['price'].plot.hist(grid=True, bins=20, rwidth=0.9,\n",
    "                   color='#607c8e')\n",
    "plt.title('Test Discret Price')\n",
    "plt.xlabel('Discret Price')\n",
    "plt.ylabel('Frequency')\n",
    "plt.grid(axis='y', alpha=0.75)\n",
    "plt.show()"
   ]
  },
  {
   "cell_type": "code",
   "execution_count": 15,
   "metadata": {},
   "outputs": [
    {
     "name": "stdout",
     "output_type": "stream",
     "text": [
      "count     416960\n",
      "unique       223\n",
      "top         null\n",
      "freq      164942\n",
      "Name: brand, dtype: object\n",
      "\n",
      "count     5164\n",
      "unique     126\n",
      "top       null\n",
      "freq      2076\n",
      "Name: brand, dtype: object\n",
      "\n"
     ]
    }
   ],
   "source": [
    "train_brand = train['brand']\n",
    "test_brand = test['brand']\n",
    "print(train_brand.describe())\n",
    "print()\n",
    "print(test_brand.describe())\n",
    "print()\n",
    "\n",
    "train_brand = train_brand.drop_duplicates()\n",
    "test_brand = test_brand.drop_duplicates()"
   ]
  },
  {
   "cell_type": "code",
   "execution_count": 16,
   "metadata": {},
   "outputs": [
    {
     "name": "stdout",
     "output_type": "stream",
     "text": [
      "0\n"
     ]
    }
   ],
   "source": [
    "count = 0\n",
    "for i in test_brand:\n",
    "    if (i in train_brand.values):\n",
    "        continue\n",
    "    else:\n",
    "        count = count + 1\n",
    "print(count)"
   ]
  },
  {
   "cell_type": "code",
   "execution_count": 17,
   "metadata": {},
   "outputs": [
    {
     "name": "stdout",
     "output_type": "stream",
     "text": [
      "count      416960\n",
      "unique      32732\n",
      "top       5892179\n",
      "freq         1063\n",
      "Name: product_id, dtype: int64\n",
      "\n",
      "count        5164\n",
      "unique       2691\n",
      "top       5700037\n",
      "freq           28\n",
      "Name: product_id, dtype: int64\n",
      "\n"
     ]
    }
   ],
   "source": [
    "train_product = train['product_id']\n",
    "test_product = test['product_id']\n",
    "print(train_product.describe())\n",
    "print()\n",
    "print(test_product.describe())\n",
    "print()\n",
    "\n",
    "train_product = train_product.drop_duplicates()\n",
    "test_product = test_product.drop_duplicates()"
   ]
  },
  {
   "cell_type": "code",
   "execution_count": 18,
   "metadata": {},
   "outputs": [
    {
     "name": "stdout",
     "output_type": "stream",
     "text": [
      "50\n"
     ]
    }
   ],
   "source": [
    "count = 0\n",
    "for i in test_product:\n",
    "    if (i in train_product.values):\n",
    "        continue\n",
    "    else:\n",
    "        count = count + 1\n",
    "print(count)"
   ]
  },
  {
   "cell_type": "code",
   "execution_count": 19,
   "metadata": {},
   "outputs": [
    {
     "name": "stdout",
     "output_type": "stream",
     "text": [
      "count      5164\n",
      "unique      558\n",
      "top       54193\n",
      "freq        141\n",
      "Name: user_id, dtype: int64\n"
     ]
    }
   ],
   "source": [
    "print(test['user_id'].describe())"
   ]
  },
  {
   "cell_type": "code",
   "execution_count": 20,
   "metadata": {},
   "outputs": [],
   "source": [
    "train_user = train['user_id']\n",
    "test_user = test['user_id']\n",
    "\n",
    "train_user = train_user.drop_duplicates()\n",
    "test_user = test_user.drop_duplicates()\n",
    "\n",
    "purchase = train[(train['event_type'] == 'purchase')]\n",
    "for i in train_user:\n",
    "    purchase_user = purchase[(purchase['user_id'] == i)]\n",
    "    if purchase_user.empty:\n",
    "        train = train.drop(index=(train.loc[(train['user_id']==i)].index))\n",
    "\n",
    "purchase = test[(test['event_type'] == 'purchase')]\n",
    "for i in test_user:\n",
    "    purchase_user = purchase[(purchase['user_id'] == i)]\n",
    "    if purchase_user.empty:\n",
    "        test = test.drop(index=(test.loc[(test['user_id']==i)].index))"
   ]
  },
  {
   "cell_type": "code",
   "execution_count": 21,
   "metadata": {},
   "outputs": [
    {
     "name": "stdout",
     "output_type": "stream",
     "text": [
      "count      1300\n",
      "unique       49\n",
      "top       54284\n",
      "freq        139\n",
      "Name: user_id, dtype: int64\n"
     ]
    }
   ],
   "source": [
    "print(test['user_id'].describe())"
   ]
  },
  {
   "cell_type": "code",
   "execution_count": 22,
   "metadata": {},
   "outputs": [],
   "source": [
    "test_user = test['user_id']\n",
    "test_user = test_user.drop_duplicates()\n",
    "\n",
    "test_clear = pd.DataFrame(columns=('event_time','event_type','product_id','category_id','category_code','brand','price','user_id','user_session'))\n",
    "\n",
    "for i in test_user:\n",
    "    flag = 0\n",
    "    user_event = test[(test['user_id'] == i)]\n",
    "    for indexs in user_event.index:\n",
    "        if (flag == 0)&(user_event.loc[indexs]['event_type'] != 'purchase'):\n",
    "            test_clear = test_clear.append(user_event.loc[indexs])\n",
    "        if (flag == 1)&(user_event.loc[indexs]['event_type'] != 'purchase'):\n",
    "            break\n",
    "        if user_event.loc[indexs]['event_type'] == 'purchase':\n",
    "            flag = 1\n",
    "            test_clear = test_clear.append(user_event.loc[indexs])"
   ]
  },
  {
   "cell_type": "code",
   "execution_count": 23,
   "metadata": {},
   "outputs": [],
   "source": [
    "train_user = train['user_id']\n",
    "train_user = train_user.drop_duplicates()\n",
    "\n",
    "train_clear = pd.DataFrame(columns=('event_time','event_type','product_id','category_id','category_code','brand','price','user_id','user_session'))\n",
    "\n",
    "for i in train_user:\n",
    "    flag = 0\n",
    "    user_event = train[(train['user_id'] == i)]\n",
    "    for indexs in user_event.index:\n",
    "        if (flag == 0)&(user_event.loc[indexs]['event_type'] != 'purchase'):\n",
    "            train_clear = train_clear.append(user_event.loc[indexs])\n",
    "        if (flag == 1)&(user_event.loc[indexs]['event_type'] != 'purchase'):\n",
    "            break\n",
    "        if user_event.loc[indexs]['event_type'] == 'purchase':\n",
    "            flag = 1\n",
    "            train_clear = train_clear.append(user_event.loc[indexs])"
   ]
  },
  {
   "cell_type": "code",
   "execution_count": 24,
   "metadata": {},
   "outputs": [],
   "source": [
    "train_clear.to_csv('train_clear.csv')\n",
    "test_clear.to_csv('test_clear.csv')"
   ]
  },
  {
   "cell_type": "markdown",
   "metadata": {},
   "source": [
    "### 分析结果\n",
    "1.训练集与测试集的覆盖程度\n",
    "\n",
    "价格属性，训练集整体大于测试集1，影响不大。\n",
    "\n",
    "品牌属性，测试集中的品牌全部都出现在训练集中。\n",
    "\n",
    "产品属性，测试集中只有50个产品并未出现在训练集中。\n",
    "\n",
    "2.价格离散化\n",
    "\n",
    "根据信息论，当分布趋近于均匀分布时，熵最大。\n",
    "\n",
    "选择0-2置1，2-3.5置2，3.5-5.5置3，5.5-10置4，>10置5的策略，\n",
    "\n",
    "使得离散后的分布趋近于均匀分布。\n",
    "\n",
    "3.测试集中共有558名用户，其中有购买行为的用户仅有49名。"
   ]
  },
  {
   "cell_type": "code",
   "execution_count": null,
   "metadata": {},
   "outputs": [],
   "source": []
  }
 ],
 "metadata": {
  "kernelspec": {
   "display_name": "Python 3",
   "language": "python",
   "name": "python3"
  },
  "language_info": {
   "codemirror_mode": {
    "name": "ipython",
    "version": 3
   },
   "file_extension": ".py",
   "mimetype": "text/x-python",
   "name": "python",
   "nbconvert_exporter": "python",
   "pygments_lexer": "ipython3",
   "version": "3.8.5"
  }
 },
 "nbformat": 4,
 "nbformat_minor": 4
}

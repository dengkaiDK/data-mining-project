{
 "cells": [
  {
   "cell_type": "code",
   "execution_count": 1,
   "metadata": {},
   "outputs": [
    {
     "name": "stdout",
     "output_type": "stream",
     "text": [
      "Missing value:  0\n",
      "count                      416962\n",
      "unique                     173711\n",
      "top       2019-10-02 20:37:56 UTC\n",
      "freq                          102\n",
      "Name: event_time, dtype: object\n",
      "\n",
      "Missing value:  0\n",
      "count     416962\n",
      "unique         4\n",
      "top         view\n",
      "freq      168854\n",
      "Name: event_type, dtype: object\n",
      "\n",
      "Missing value:  0\n",
      "count    4.169620e+05\n",
      "mean     5.498023e+06\n",
      "std      1.268676e+06\n",
      "min      3.752000e+03\n",
      "25%      5.729011e+06\n",
      "50%      5.809809e+06\n",
      "75%      5.850305e+06\n",
      "max      5.892800e+06\n",
      "Name: product_id, dtype: float64\n",
      "\n",
      "Missing value:  0\n",
      "count    4.169620e+05\n",
      "mean     1.556230e+18\n",
      "std      1.644289e+17\n",
      "min      1.490000e+18\n",
      "25%      1.490000e+18\n",
      "50%      1.490000e+18\n",
      "75%      1.490000e+18\n",
      "max      2.200000e+18\n",
      "Name: category_id, dtype: float64\n",
      "\n",
      "Missing value:  410798\n",
      "count                              6164\n",
      "unique                               10\n",
      "top       appliances.environment.vacuum\n",
      "freq                               2982\n",
      "Name: category_code, dtype: object\n",
      "\n",
      "Missing value:  164944\n",
      "count     252018\n",
      "unique       222\n",
      "top       runail\n",
      "freq       40857\n",
      "Name: brand, dtype: object\n",
      "\n",
      "Missing value:  0\n",
      "count    416962.000000\n",
      "mean          8.290661\n",
      "std          17.846968\n",
      "min         -23.810000\n",
      "25%           2.370000\n",
      "50%           4.110000\n",
      "75%           7.270000\n",
      "max         299.810000\n",
      "Name: price, dtype: float64\n",
      "\n",
      "Missing value:  0\n",
      "count    416962.000000\n",
      "mean      23290.071587\n",
      "std       16642.334912\n",
      "min           1.000000\n",
      "25%        7743.000000\n",
      "50%       21213.000000\n",
      "75%       37673.000000\n",
      "max       53975.000000\n",
      "Name: user_id, dtype: float64\n",
      "\n",
      "Missing value:  38\n",
      "count                                   416924\n",
      "unique                                   85311\n",
      "top       51bc0bb5-a1cd-4e7f-bac7-8bf8fca05826\n",
      "freq                                       877\n",
      "Name: user_session, dtype: object\n",
      "\n"
     ]
    }
   ],
   "source": [
    "import os\n",
    "import pandas as pd \n",
    "import numpy as np\n",
    "\n",
    "dataframe = pd.read_csv('train.csv')\n",
    "\n",
    "for index in dataframe.columns:\n",
    "    print('Missing value: ',dataframe[index].isnull().sum())\n",
    "    print(dataframe[index].describe())\n",
    "    print()"
   ]
  },
  {
   "cell_type": "code",
   "execution_count": 2,
   "metadata": {},
   "outputs": [
    {
     "name": "stdout",
     "output_type": "stream",
     "text": [
      "object\n",
      "count      416962\n",
      "unique      32734\n",
      "top       5892179\n",
      "freq         1063\n",
      "Name: product_id, dtype: int64\n"
     ]
    }
   ],
   "source": [
    "dataframe['product_id'] = dataframe['product_id'].astype('object')\n",
    "print(dataframe['product_id'].dtype)\n",
    "print(dataframe['product_id'].describe())"
   ]
  },
  {
   "cell_type": "code",
   "execution_count": 3,
   "metadata": {},
   "outputs": [
    {
     "name": "stdout",
     "output_type": "stream",
     "text": [
      "0\n"
     ]
    }
   ],
   "source": [
    "dataframe.fillna(value={'brand':'null'},inplace=True)\n",
    "print(dataframe['brand'].isnull().sum())"
   ]
  },
  {
   "cell_type": "code",
   "execution_count": 4,
   "metadata": {},
   "outputs": [
    {
     "name": "stdout",
     "output_type": "stream",
     "text": [
      "datetime64[ns]\n",
      "0   2019-10-01 00:00:00\n",
      "1   2019-10-01 00:00:03\n",
      "2   2019-10-01 00:00:07\n",
      "3   2019-10-01 00:02:32\n",
      "4   2019-10-01 00:02:40\n",
      "Name: event_time, dtype: datetime64[ns]\n"
     ]
    }
   ],
   "source": [
    "import datetime\n",
    "\n",
    "index_len = len(dataframe.index)\n",
    "date_list = []\n",
    "\n",
    "for i in range(index_len):\n",
    "    date_str = dataframe['event_time'][i]\n",
    "    date_list.append(datetime.datetime.strptime(date_str[0:19],'%Y-%m-%d %H:%M:%S'))\n",
    "\n",
    "dataframe['event_time'] = pd.DataFrame(date_list)\n",
    "print(dataframe['event_time'].dtype)\n",
    "print(dataframe['event_time'].head())"
   ]
  },
  {
   "cell_type": "code",
   "execution_count": 5,
   "metadata": {},
   "outputs": [
    {
     "name": "stdout",
     "output_type": "stream",
     "text": [
      "Int64Index([63196, 165348], dtype='int64')\n",
      "Int64Index([], dtype='int64')\n"
     ]
    }
   ],
   "source": [
    "print(dataframe[dataframe['price'] < 0].index)\n",
    "dataframe = dataframe.drop(dataframe[dataframe['price'] < 0].index)\n",
    "print(dataframe[dataframe['price'] < 0].index)"
   ]
  },
  {
   "cell_type": "code",
   "execution_count": 6,
   "metadata": {},
   "outputs": [
    {
     "name": "stdout",
     "output_type": "stream",
     "text": [
      "event_time       datetime64[ns]\n",
      "event_type               object\n",
      "product_id               object\n",
      "category_id             float64\n",
      "category_code            object\n",
      "brand                    object\n",
      "price                   float64\n",
      "user_id                   int64\n",
      "user_session             object\n",
      "dtype: object\n"
     ]
    }
   ],
   "source": [
    "print(dataframe.dtypes)"
   ]
  },
  {
   "cell_type": "code",
   "execution_count": 7,
   "metadata": {},
   "outputs": [
    {
     "name": "stdout",
     "output_type": "stream",
     "text": [
      "           event_time event_type product_id   category_id category_code  \\\n",
      "0 2019-10-01 00:00:00       cart    5773203  1.490000e+18           NaN   \n",
      "1 2019-10-01 00:00:03       cart    5773353  1.490000e+18           NaN   \n",
      "2 2019-10-01 00:00:07       cart    5723490  1.490000e+18           NaN   \n",
      "3 2019-10-01 00:02:32       cart    5857283  1.490000e+18           NaN   \n",
      "4 2019-10-01 00:02:40       cart    5723523  1.490000e+18           NaN   \n",
      "\n",
      "    brand  price  user_id                          user_session  \n",
      "0  runail   2.62        1  26dd6e6e-4dac-4778-8d2c-92e149dab885  \n",
      "1  runail   2.62        1  26dd6e6e-4dac-4778-8d2c-92e149dab885  \n",
      "2  runail   2.62        1  26dd6e6e-4dac-4778-8d2c-92e149dab885  \n",
      "3  runail   2.62        1  26dd6e6e-4dac-4778-8d2c-92e149dab885  \n",
      "4  runail   2.62        1  26dd6e6e-4dac-4778-8d2c-92e149dab885  \n"
     ]
    }
   ],
   "source": [
    "print(dataframe.head())"
   ]
  },
  {
   "cell_type": "markdown",
   "metadata": {},
   "source": [
    "任务分工说明：  \n",
    "1. 产品，价格，品牌是否重叠？重叠度有多高 （王）  \n",
    "2. 价格（连续变量）离散化以及brand空值处理  （王） 注：离群点的存在，合理划分区间  \n",
    "3. 对购买之后的记录进行删除操作 （王）  \n",
    "4. 剔除无购买行为的用户  （王）  \n",
    "5. 构建品牌-价格字典 （张）  \n",
    "6. 设计测试评价指标 （张）  \n",
    "7. 设计个人行为模型，要考虑event,price,brand等变量，并且对event变量做好处理，通过购买产品进行监督训练 （邢）  \n",
    "8. 考虑如何合成公共字典和个人行为模型，以概率的形式输出不同产品购买的可能性 （邢）  \n",
    "  \n",
    "具体要求：  \n",
    "王：返回处理结束后的csv文件，并对重叠度进行基本描述  \n",
    "张：基于新的数据集构建字典，返回字典格式的数据，其中字典中的值为对应产品的频数，实现测试评价指标的代码，输入为预测的概率序列（从高到低），输出为每个产品的召回率和整体的平均倒数排名  \n",
    "邢：实现根据输入变量预测产品输出概率的模型，并设计好训练模式，实现将公共字典中的产品概率与浏览产品的预测概率结合的最终产品概率预测算法  \n"
   ]
  },
  {
   "cell_type": "code",
   "execution_count": 8,
   "metadata": {},
   "outputs": [
    {
     "name": "stdout",
     "output_type": "stream",
     "text": [
      "Unnamed: 0         int64\n",
      "event_time        object\n",
      "event_type        object\n",
      "product_id         int64\n",
      "category_id      float64\n",
      "category_code     object\n",
      "brand             object\n",
      "price            float64\n",
      "user_id            int64\n",
      "user_session      object\n",
      "dtype: object\n",
      "44357\n",
      "1.0    30177\n",
      "2.0    27638\n",
      "3.0    21483\n",
      "4.0    18852\n",
      "5.0    14379\n",
      "Name: price, dtype: int64\n",
      "0\n",
      "\n",
      "Unnamed: 0         int64\n",
      "event_time        object\n",
      "event_type        object\n",
      "product_id         int64\n",
      "category_id      float64\n",
      "category_code     object\n",
      "brand             object\n",
      "price            float64\n",
      "user_id            int64\n",
      "user_session      object\n",
      "dtype: object\n",
      "426\n",
      "1.0    342\n",
      "2.0    328\n",
      "4.0    195\n",
      "3.0    182\n",
      "5.0    167\n",
      "Name: price, dtype: int64\n",
      "0\n",
      "int64\n"
     ]
    }
   ],
   "source": [
    "# import dataset after preprocess by wang\n",
    "train_data = pd.read_csv('train_clear.csv')\n",
    "print(train_data.dtypes)\n",
    "print(train_data['brand'].isnull().sum())\n",
    "print(train_data['price'].value_counts())\n",
    "train_data.fillna(value={'brand':'null'},inplace=True)\n",
    "print(train_data['brand'].isnull().sum())\n",
    "print()\n",
    "test_data = pd.read_csv('test_clear.csv')\n",
    "print(test_data.dtypes)\n",
    "print(test_data['brand'].isnull().sum())\n",
    "print(test_data['price'].value_counts())\n",
    "test_data.fillna(value={'brand':'null'},inplace=True)\n",
    "print(test_data['brand'].isnull().sum())\n",
    "test_data['price'] = test_data['price'].astype('int64')\n",
    "print(test_data['price'].dtype)"
   ]
  },
  {
   "cell_type": "code",
   "execution_count": 9,
   "metadata": {},
   "outputs": [
    {
     "data": {
      "text/html": [
       "<div>\n",
       "<style scoped>\n",
       "    .dataframe tbody tr th:only-of-type {\n",
       "        vertical-align: middle;\n",
       "    }\n",
       "\n",
       "    .dataframe tbody tr th {\n",
       "        vertical-align: top;\n",
       "    }\n",
       "\n",
       "    .dataframe thead th {\n",
       "        text-align: right;\n",
       "    }\n",
       "</style>\n",
       "<table border=\"1\" class=\"dataframe\">\n",
       "  <thead>\n",
       "    <tr style=\"text-align: right;\">\n",
       "      <th></th>\n",
       "      <th>Unnamed: 0</th>\n",
       "      <th>event_time</th>\n",
       "      <th>event_type</th>\n",
       "      <th>product_id</th>\n",
       "      <th>category_id</th>\n",
       "      <th>category_code</th>\n",
       "      <th>brand</th>\n",
       "      <th>price</th>\n",
       "      <th>user_id</th>\n",
       "      <th>user_session</th>\n",
       "    </tr>\n",
       "  </thead>\n",
       "  <tbody>\n",
       "    <tr>\n",
       "      <th>0</th>\n",
       "      <td>0</td>\n",
       "      <td>2019-10-01 00:00:00</td>\n",
       "      <td>cart</td>\n",
       "      <td>5773203</td>\n",
       "      <td>1.490000e+18</td>\n",
       "      <td>NaN</td>\n",
       "      <td>runail</td>\n",
       "      <td>2.0</td>\n",
       "      <td>1</td>\n",
       "      <td>26dd6e6e-4dac-4778-8d2c-92e149dab885</td>\n",
       "    </tr>\n",
       "    <tr>\n",
       "      <th>1</th>\n",
       "      <td>1</td>\n",
       "      <td>2019-10-01 00:00:03</td>\n",
       "      <td>cart</td>\n",
       "      <td>5773353</td>\n",
       "      <td>1.490000e+18</td>\n",
       "      <td>NaN</td>\n",
       "      <td>runail</td>\n",
       "      <td>2.0</td>\n",
       "      <td>1</td>\n",
       "      <td>26dd6e6e-4dac-4778-8d2c-92e149dab885</td>\n",
       "    </tr>\n",
       "    <tr>\n",
       "      <th>2</th>\n",
       "      <td>2</td>\n",
       "      <td>2019-10-01 00:00:07</td>\n",
       "      <td>cart</td>\n",
       "      <td>5723490</td>\n",
       "      <td>1.490000e+18</td>\n",
       "      <td>NaN</td>\n",
       "      <td>runail</td>\n",
       "      <td>2.0</td>\n",
       "      <td>1</td>\n",
       "      <td>26dd6e6e-4dac-4778-8d2c-92e149dab885</td>\n",
       "    </tr>\n",
       "    <tr>\n",
       "      <th>3</th>\n",
       "      <td>3</td>\n",
       "      <td>2019-10-01 00:02:32</td>\n",
       "      <td>cart</td>\n",
       "      <td>5857283</td>\n",
       "      <td>1.490000e+18</td>\n",
       "      <td>NaN</td>\n",
       "      <td>runail</td>\n",
       "      <td>2.0</td>\n",
       "      <td>1</td>\n",
       "      <td>26dd6e6e-4dac-4778-8d2c-92e149dab885</td>\n",
       "    </tr>\n",
       "    <tr>\n",
       "      <th>4</th>\n",
       "      <td>4</td>\n",
       "      <td>2019-10-01 00:02:40</td>\n",
       "      <td>cart</td>\n",
       "      <td>5723523</td>\n",
       "      <td>1.490000e+18</td>\n",
       "      <td>NaN</td>\n",
       "      <td>runail</td>\n",
       "      <td>2.0</td>\n",
       "      <td>1</td>\n",
       "      <td>26dd6e6e-4dac-4778-8d2c-92e149dab885</td>\n",
       "    </tr>\n",
       "  </tbody>\n",
       "</table>\n",
       "</div>"
      ],
      "text/plain": [
       "   Unnamed: 0           event_time event_type  product_id   category_id  \\\n",
       "0           0  2019-10-01 00:00:00       cart     5773203  1.490000e+18   \n",
       "1           1  2019-10-01 00:00:03       cart     5773353  1.490000e+18   \n",
       "2           2  2019-10-01 00:00:07       cart     5723490  1.490000e+18   \n",
       "3           3  2019-10-01 00:02:32       cart     5857283  1.490000e+18   \n",
       "4           4  2019-10-01 00:02:40       cart     5723523  1.490000e+18   \n",
       "\n",
       "  category_code   brand  price  user_id                          user_session  \n",
       "0           NaN  runail    2.0        1  26dd6e6e-4dac-4778-8d2c-92e149dab885  \n",
       "1           NaN  runail    2.0        1  26dd6e6e-4dac-4778-8d2c-92e149dab885  \n",
       "2           NaN  runail    2.0        1  26dd6e6e-4dac-4778-8d2c-92e149dab885  \n",
       "3           NaN  runail    2.0        1  26dd6e6e-4dac-4778-8d2c-92e149dab885  \n",
       "4           NaN  runail    2.0        1  26dd6e6e-4dac-4778-8d2c-92e149dab885  "
      ]
     },
     "execution_count": 9,
     "metadata": {},
     "output_type": "execute_result"
    }
   ],
   "source": [
    "train_data.head()"
   ]
  },
  {
   "cell_type": "code",
   "execution_count": 10,
   "metadata": {},
   "outputs": [
    {
     "name": "stdout",
     "output_type": "stream",
     "text": [
      "112529\n",
      "1214\n",
      "2636\n",
      "49\n"
     ]
    }
   ],
   "source": [
    "print(len(train_data.index))\n",
    "print(len(test_data.index))\n",
    "print(len(train_data['user_id'].unique()))\n",
    "print(len(test_data['user_id'].unique()))"
   ]
  },
  {
   "cell_type": "code",
   "execution_count": 11,
   "metadata": {},
   "outputs": [],
   "source": [
    "import warnings\n",
    "\n",
    "warnings.filterwarnings('ignore')\n",
    "#build a dictionary based on brand and price\n",
    "diction = {}\n",
    "#print(len(dataframe['brand'].unique()))\n",
    "a = train_data['brand'].value_counts()\n",
    "price_level = [1,2,3,4,5] #Discretization\n",
    "for key in a.keys():\n",
    "    diction[key] = {}\n",
    "    for val in price_level:\n",
    "        diction[key][val] = {}\n",
    "\n",
    "\n",
    "\n",
    "\n",
    "# basic assumption: purchase event is the most related event, frequency contributes little.\n",
    "user_ids = train_data['user_id'].value_counts()\n",
    "\n",
    "for user_id, count in enumerate(user_ids):\n",
    "    record = train_data[train_data['user_id'] == user_id][train_data['event_type'] == 'purchase']\n",
    "    #remove duplicate\n",
    "    update_record = record.drop_duplicates(subset=['product_id'],keep='first',inplace=False)\n",
    "    \n",
    "    for i in update_record.index:\n",
    "        product_id = update_record.loc[i,'product_id']\n",
    "        brand = update_record.loc[i,'brand']\n",
    "        price = update_record.loc[i,'price']\n",
    "        if product_id not in diction[brand][price]:\n",
    "            diction[brand][price][product_id] = 1\n",
    "        else:\n",
    "            diction[brand][price][product_id] += 1\n",
    "        \n",
    "\n",
    "\n",
    "\n"
   ]
  },
  {
   "cell_type": "code",
   "execution_count": 12,
   "metadata": {},
   "outputs": [
    {
     "name": "stdout",
     "output_type": "stream",
     "text": [
      "{1: {5859462: 3, 5826988: 2, 5813058: 3, 5826989: 1, 5797965: 1, 5859468: 1, 5788524: 1, 5796976: 1, 5796983: 2, 5797967: 1, 5801770: 1, 5804167: 1, 5804168: 1, 5813060: 1, 5813068: 1, 5826996: 1, 5867965: 1, 5774877: 1, 5774872: 1, 5830548: 2, 5774871: 1, 5788522: 1, 5794153: 1, 5796995: 1, 5774893: 1, 5830534: 1, 5603537: 1, 5813483: 2, 5813064: 1, 5859478: 2, 5830561: 1, 5813482: 1, 5839699: 1, 5839706: 1, 5839703: 1, 5839702: 1, 5839697: 1, 5758509: 1, 5774897: 1, 5796998: 1, 5794155: 1}, 2: {5859410: 1, 5859411: 1, 5859413: 1, 5839677: 2, 5859407: 1, 5839667: 1, 5859420: 1, 5839676: 1, 5839672: 2, 5859402: 3, 5683351: 1, 5839656: 1}, 3: {5883344: 1, 5839690: 1, 5746386: 1, 5774863: 1, 5853684: 1}, 4: {5627420: 1, 5624537: 1, 5747404: 1}, 5: {5774857: 1, 27764: 1}}\n"
     ]
    }
   ],
   "source": [
    "print(diction['masura'])"
   ]
  },
  {
   "cell_type": "code",
   "execution_count": 13,
   "metadata": {},
   "outputs": [
    {
     "name": "stdout",
     "output_type": "stream",
     "text": [
      "0.5\n",
      "0.43333333333333335\n"
     ]
    }
   ],
   "source": [
    "#build a judgement calculation method\n",
    "predict_1 = {5802428: 0.8, 5688124: 0.6, 5739989: 0.4, 5773353: 0.2}\n",
    "truth_1 = [5688124, 5773353, 5385]\n",
    "predict_2 = {5688124:0.7, 5385:0.5, 5555:0.9}\n",
    "truth_2 = [5385,5688124]\n",
    "predict = [predict_1,predict_2]\n",
    "truth = [truth_1,truth_2]\n",
    "#MRR\n",
    "def MRR(p,t):\n",
    "    Q = len(p)\n",
    "    mrr = 0\n",
    "    for i in range(Q):\n",
    "        temp_p = p[i]\n",
    "        temp_t = t[i]\n",
    "        p_value = sorted(temp_p.items(),key= lambda item:item[1], reverse=True)\n",
    "        p_len = len(p_value)\n",
    "        find = False\n",
    "        for j in range(p_len):\n",
    "            k,v = p_value[j]\n",
    "            if k in temp_t:\n",
    "                rank = 1/(j+1)\n",
    "                find = True\n",
    "                break\n",
    "\n",
    "        if find == False:\n",
    "            #optimistic : the recommend algorithm will find truth product next.\n",
    "            rank = 1/(p_len+1)\n",
    "\n",
    "        mrr += rank\n",
    "    mrr /= Q\n",
    "    return mrr\n",
    "\n",
    "print(MRR(predict,truth))\n",
    "\n",
    "#Inclusion Rate: a numerical identifier to measure to what extent truth product is covered by predict product\n",
    "def Inclusion(p,t):\n",
    "    Q = len(p)\n",
    "    inclusion = 0\n",
    "    for i in range(Q):\n",
    "        temp_p = p[i]\n",
    "        temp_t = t[i]\n",
    "        score = 0\n",
    "        for member in temp_t:\n",
    "            if member in temp_p.keys():\n",
    "                score += temp_p[member]\n",
    "        \n",
    "        score /= len(temp_t)\n",
    "        inclusion += score\n",
    "    \n",
    "    inclusion /= Q\n",
    "    return inclusion\n",
    "\n",
    "print(Inclusion(predict,truth))\n"
   ]
  },
  {
   "cell_type": "code",
   "execution_count": 14,
   "metadata": {},
   "outputs": [],
   "source": [
    "#定义品牌与事件的数组\n",
    "brand_ser=train_data['brand'].value_counts()\n",
    "brand=np.array(brand_ser.index)\n",
    "event=['view','cart','remove_from_cart']"
   ]
  },
  {
   "cell_type": "code",
   "execution_count": 15,
   "metadata": {},
   "outputs": [],
   "source": [
    "#将用户记录向量化，格式为[view,cart,remove_from_cart,price,brand]，其中价格是用该用户操作商品的平均价格，brand有198个元素。\n",
    "def getinputvec(train_data,brand,event):    \n",
    "    id=train_data['user_id'][0]\n",
    "    q=0\n",
    "    k=0\n",
    "    input=np.zeros((len(train_data['user_id'].value_counts()),202))\n",
    "    for i in range(len(train_data)):\n",
    "        if train_data['event_type'][i]=='purchase': \n",
    "                if id!=train_data['user_id'][i]:\n",
    "                    input[q][3]=input[q][3]/k\n",
    "                    k=1\n",
    "                    id=train_data['user_id'][i]\n",
    "                    q=q+1\n",
    "        if train_data['event_type'][i]!='purchase':    \n",
    "            if id==train_data['user_id'][i]:\n",
    "                k=k+1                \n",
    "                for n in range(3):\n",
    "                    if event[n]==train_data['event_type'][i]:\n",
    "                        input[q][n]=input[q][n]+1\n",
    "                input[q][3]=input[q][3]+train_data['price'][i]\n",
    "                for n in range(len(brand)):\n",
    "                    if brand[n]==train_data['brand'][i]:\n",
    "                        input[q][n+4]=input[q][n+4]+1\n",
    "\n",
    "            if id!=train_data['user_id'][i]:\n",
    "                input[q][3]=input[q][3]/k\n",
    "                k=1\n",
    "                id=train_data['user_id'][i]\n",
    "                q=q+1\n",
    "             \n",
    "                for n in range(3):\n",
    "                    if event[n]==train_data['event_type'][i]:\n",
    "                        input[q][n]=input[q][n]+1\n",
    "                input[q][3]=input[q][3]+train_data['price'][i]\n",
    "                for n in range(len(brand)):\n",
    "                    if brand[n]==train_data['brand'][i]:\n",
    "                        input[q][n+4]=input[q][n+4]+1\n",
    "    input[len(train_data['user_id'].value_counts())-1][3]=input[len(train_data['user_id'].value_counts())-1][3]/k\n",
    "    for i in range((len(train_data['user_id'].value_counts()))):\n",
    "         for n in range(len(brand)):\n",
    "            input[i][n+4]=input[i][n+4]/10\n",
    "    for i in range((len(train_data['user_id'].value_counts()))):\n",
    "         for n in range(3):\n",
    "            input[i][n]=input[i][n]/10\n",
    "    return input"
   ]
  },
  {
   "cell_type": "code",
   "execution_count": 16,
   "metadata": {},
   "outputs": [],
   "source": [
    "#将用户购买结果向量化，格式为[purchase,price,brand]，其中purchase是用户的购买次数，价格是用该用户购买商品的平均价格，brand有198个元素。\n",
    "def getoutputvec(train_data,brand,event):    \n",
    "    id=train_data['user_id'][0]\n",
    "    q=0\n",
    "    k=0\n",
    "    output=np.zeros((len(train_data['user_id'].value_counts()),200))\n",
    "    for i in range(len(train_data)):\n",
    "        if id==train_data['user_id'][i]:\n",
    "            if train_data['event_type'][i]=='purchase': \n",
    "                k=k+1\n",
    "                output[q][0]=output[q][0]+1\n",
    "                output[q][1]=output[q][1]+train_data['price'][i]\n",
    "                for n in range(len(brand)):\n",
    "                    if brand[n]==train_data['brand'][i]:\n",
    "                        output[q][n+2]=output[q][n+2]+1\n",
    "            \n",
    "        if id!=train_data['user_id'][i]:\n",
    "            if train_data['event_type'][i]=='purchase': \n",
    "                output[q][1]=output[q][1]/k\n",
    "                k=1\n",
    "                id=train_data['user_id'][i]\n",
    "                q=q+1\n",
    "                output[q][0]=output[q][0]+1\n",
    "                output[q][1]=output[q][1]+train_data['price'][i]\n",
    "                for n in range(len(brand)):\n",
    "                    if brand[n]==train_data['brand'][i]:\n",
    "                        output[q][n+2]=output[q][n+2]+1            \n",
    "    output[len(train_data['user_id'].value_counts())-1][1]=output[len(train_data['user_id'].value_counts())-1][1]/k\n",
    "    for i in range((len(train_data['user_id'].value_counts()))):\n",
    "         for n in range(len(brand)):\n",
    "            output[i][n+2]=output[i][n+2]/5\n",
    "    for i in range((len(train_data['user_id'].value_counts()))):\n",
    "            output[i][0]=output[i][0]/5\n",
    "    return output"
   ]
  },
  {
   "cell_type": "code",
   "execution_count": 17,
   "metadata": {},
   "outputs": [],
   "source": [
    "#获得用于BP神经网络训练测试的输入输出向量\n",
    "train_set_x= getinputvec(train_data,brand,event)\n",
    "test_set_x=getinputvec(test_data,brand,event)\n",
    "train_set_y_T= getoutputvec(train_data,brand,event)\n",
    "test_set_y_T=getoutputvec(test_data,brand,event)"
   ]
  },
  {
   "cell_type": "code",
   "execution_count": 18,
   "metadata": {},
   "outputs": [],
   "source": [
    "#将输出向量转置并处理成bool型数据，转换成BP网络可识别的形式。\n",
    "train_set_y=np.transpose(train_set_y_T)\n",
    "test_set_y=np.transpose(test_set_y_T)\n",
    "for i in range(2,len(train_set_y)):\n",
    "    for n in range(len(train_set_y[0])):\n",
    "        if train_set_y[i][n]!=0:\n",
    "            train_set_y[i][n]=1\n",
    "for i in range(2,len(test_set_y)):\n",
    "    for n in range(len(test_set_y[0])):\n",
    "        if test_set_y[i][n]!=0:\n",
    "            test_set_y[i][n]=1"
   ]
  },
  {
   "cell_type": "code",
   "execution_count": 19,
   "metadata": {},
   "outputs": [],
   "source": [
    "#编写BP网络函数，层数为2，含200个神经元。\n",
    "import os\n",
    "import pandas as pd\n",
    "from sklearn.neural_network import MLPClassifier\n",
    "\n",
    "def BP(train_set_x,train_set_y,test_set_y):\n",
    "    \n",
    "    bp = MLPClassifier(solver='lbfgs',activation = 'tanh', alpha=1e-5,  hidden_layer_sizes=(200,2), random_state=1, batch_size=9, verbose=True)\n",
    "    bp.fit(train_set_x, train_set_y)\n",
    "\n",
    "    y_pred=bp.predict(train_set_x)\n",
    "    y_pred\n",
    "    number = len(y_pred)\n",
    "    true = 0\n",
    "    false = 0\n",
    "    trainright=0\n",
    "    for i in range(number):\n",
    "        if y_pred[i] == train_set_y[i]:\n",
    "            true = true + 1\n",
    "        else :\n",
    "            false = false + 1\n",
    "    trainright=true/(true+false)\n",
    "   # print(\"训练集正确:\"+str(true))\n",
    "   # print(\"训练集错误:\"+str(false))\n",
    "   # print('训练集准确率： %f' %(trainright))\n",
    "\n",
    "    y_pred=bp.predict(test_set_x)\n",
    "    number = len(y_pred)\n",
    "    true = 0\n",
    "    false = 0\n",
    "    testright=0\n",
    "    for i in range(number):\n",
    "        if y_pred[i] == test_set_y[i]:\n",
    "            true = true + 1\n",
    "        else :\n",
    "            false = false + 1\n",
    "    testright=true/(true+false)\n",
    "   # print(\"测试集正确:\"+str(true))\n",
    "   # print(\"测试集错误:\"+str(false))\n",
    "   # print('测试集准确率： %f' %(testright))\n",
    "    return trainright,testright,y_pred"
   ]
  },
  {
   "cell_type": "code",
   "execution_count": 20,
   "metadata": {},
   "outputs": [
    {
     "name": "stdout",
     "output_type": "stream",
     "text": [
      "训练集平均准确率： 0.981978\n",
      "测试集平均准确率： 0.981735\n"
     ]
    }
   ],
   "source": [
    "#预测所有的test集中的用户购买品牌，存入y_pred矩阵中，并计算对于所有用户购买品牌预测的平均准确率\n",
    "trainright=0\n",
    "testright=0\n",
    "trainrighti=0\n",
    "testrighti=0\n",
    "y_predi=[]\n",
    "y_pred=np.zeros((198,len(test_set_y[0])))\n",
    "for i in range(2,len(train_set_y)):\n",
    "    trainrighti,testrighti,y_predi=BP(train_set_x,train_set_y[i],test_set_y[i])\n",
    "    trainright=trainright+trainrighti\n",
    "    testright=testright+testrighti\n",
    "    y_pred[i-2]=y_predi\n",
    "trainright=trainright/len(train_set_y)\n",
    "testright=testright/len(train_set_y)\n",
    "print('训练集平均准确率： %f' %(trainright))\n",
    "print('测试集平均准确率： %f' %(testright))"
   ]
  },
  {
   "cell_type": "code",
   "execution_count": 21,
   "metadata": {},
   "outputs": [],
   "source": [
    "#将预测的y数组转置，第n行是第n位用户，n列是第n个品牌\n",
    "y_predict=np.transpose(y_pred)\n",
    "#按表格顺序获得userid的列表\n",
    "k=test_data['user_id'][0]\n",
    "userid=[]\n",
    "userid.append(test_data['user_id'][0])\n",
    "for i in range(len(test_data['user_id'])):\n",
    "    if k!=test_data['user_id'][i]:\n",
    "        userid.append(test_data['user_id'][i])\n",
    "        k=test_data['user_id'][i]"
   ]
  },
  {
   "cell_type": "code",
   "execution_count": 24,
   "metadata": {},
   "outputs": [],
   "source": [
    "#定义预测\n",
    "def predict(id,y_predict,userid,brand,test_set_y):\n",
    "    true=0\n",
    "    false=0\n",
    "    brand_predict=[]\n",
    "    k=0\n",
    "    q=0\n",
    "    for n in range(len(userid)):\n",
    "        if id==userid[n]:\n",
    "            k=n\n",
    "    for n in range(len(y_predict[0])):\n",
    "        if y_predict[k][n]==1:\n",
    "            brand_predict.append(brand[n])\n",
    "        if y_predict[k][n]==test_set_y[n][k]:\n",
    "            true=true+1\n",
    "        else:\n",
    "            false=false+1\n",
    "    testright=true/(true+false)\n",
    "    print('预测id为 %d的用户购买的商品品牌为：' %(id))\n",
    "    print(brand_predict)\n",
    "    print('预测准确率为：%f'%(testright))\n",
    "            "
   ]
  },
  {
   "cell_type": "code",
   "execution_count": 25,
   "metadata": {},
   "outputs": [
    {
     "name": "stdout",
     "output_type": "stream",
     "text": [
      "预测id为 54066的用户购买的商品品牌为：\n",
      "['null', 'irisk', 'grattol', 'ingarden']\n",
      "预测准确率为：0.969697\n"
     ]
    }
   ],
   "source": [
    "#拿id为54066的用户为例，可以预测其购买的品牌，并给出了预测准确率\n",
    "predict(54066,y_predict,userid,brand,test_set_y)"
   ]
  },
  {
   "cell_type": "code",
   "execution_count": null,
   "metadata": {},
   "outputs": [],
   "source": []
  }
 ],
 "metadata": {
  "kernelspec": {
   "display_name": "Python 3",
   "language": "python",
   "name": "python3"
  },
  "language_info": {
   "codemirror_mode": {
    "name": "ipython",
    "version": 3
   },
   "file_extension": ".py",
   "mimetype": "text/x-python",
   "name": "python",
   "nbconvert_exporter": "python",
   "pygments_lexer": "ipython3",
   "version": "3.8.5"
  },
  "metadata": {
   "interpreter": {
    "hash": "57baa5815c940fdaff4d14510622de9616cae602444507ba5d0b6727c008cbd6"
   }
  }
 },
 "nbformat": 4,
 "nbformat_minor": 2
}

{
 "metadata": {
  "language_info": {
   "codemirror_mode": {
    "name": "ipython",
    "version": 3
   },
   "file_extension": ".py",
   "mimetype": "text/x-python",
   "name": "python",
   "nbconvert_exporter": "python",
   "pygments_lexer": "ipython3",
   "version": "3.7.8"
  },
  "orig_nbformat": 2,
  "kernelspec": {
   "name": "python378jvsc74a57bd057baa5815c940fdaff4d14510622de9616cae602444507ba5d0b6727c008cbd6",
   "display_name": "Python 3.7.8 64-bit"
  },
  "metadata": {
   "interpreter": {
    "hash": "57baa5815c940fdaff4d14510622de9616cae602444507ba5d0b6727c008cbd6"
   }
  }
 },
 "nbformat": 4,
 "nbformat_minor": 2,
 "cells": [
  {
   "cell_type": "code",
   "execution_count": 2,
   "metadata": {},
   "outputs": [
    {
     "output_type": "stream",
     "name": "stdout",
     "text": [
      "Missing value:  0\n",
      "count                      416962\n",
      "unique                     173711\n",
      "top       2019-10-02 20:37:56 UTC\n",
      "freq                          102\n",
      "Name: event_time, dtype: object\n",
      "\n",
      "Missing value:  0\n",
      "count     416962\n",
      "unique         4\n",
      "top         view\n",
      "freq      168854\n",
      "Name: event_type, dtype: object\n",
      "\n",
      "Missing value:  0\n",
      "count    4.169620e+05\n",
      "mean     5.498023e+06\n",
      "std      1.268676e+06\n",
      "min      3.752000e+03\n",
      "25%      5.729011e+06\n",
      "50%      5.809809e+06\n",
      "75%      5.850305e+06\n",
      "max      5.892800e+06\n",
      "Name: product_id, dtype: float64\n",
      "\n",
      "Missing value:  0\n",
      "count    4.169620e+05\n",
      "mean     1.556230e+18\n",
      "std      1.644289e+17\n",
      "min      1.490000e+18\n",
      "25%      1.490000e+18\n",
      "50%      1.490000e+18\n",
      "75%      1.490000e+18\n",
      "max      2.200000e+18\n",
      "Name: category_id, dtype: float64\n",
      "\n",
      "Missing value:  410798\n",
      "count                              6164\n",
      "unique                               10\n",
      "top       appliances.environment.vacuum\n",
      "freq                               2982\n",
      "Name: category_code, dtype: object\n",
      "\n",
      "Missing value:  164944\n",
      "count     252018\n",
      "unique       222\n",
      "top       runail\n",
      "freq       40857\n",
      "Name: brand, dtype: object\n",
      "\n",
      "Missing value:  0\n",
      "count    416962.000000\n",
      "mean          8.290661\n",
      "std          17.846968\n",
      "min         -23.810000\n",
      "25%           2.370000\n",
      "50%           4.110000\n",
      "75%           7.270000\n",
      "max         299.810000\n",
      "Name: price, dtype: float64\n",
      "\n",
      "Missing value:  0\n",
      "count    416962.000000\n",
      "mean      23290.071587\n",
      "std       16642.334912\n",
      "min           1.000000\n",
      "25%        7743.000000\n",
      "50%       21213.000000\n",
      "75%       37673.000000\n",
      "max       53975.000000\n",
      "Name: user_id, dtype: float64\n",
      "\n",
      "Missing value:  38\n",
      "count                                   416924\n",
      "unique                                   85311\n",
      "top       51bc0bb5-a1cd-4e7f-bac7-8bf8fca05826\n",
      "freq                                       877\n",
      "Name: user_session, dtype: object\n",
      "\n"
     ]
    }
   ],
   "source": [
    "import os\n",
    "import pandas as pd \n",
    "\n",
    "dataframe = pd.read_csv('train.csv')\n",
    "\n",
    "for index in dataframe.columns:\n",
    "    print('Missing value: ',dataframe[index].isnull().sum())\n",
    "    print(dataframe[index].describe())\n",
    "    print()\n"
   ]
  },
  {
   "cell_type": "code",
   "execution_count": 3,
   "metadata": {},
   "outputs": [
    {
     "output_type": "stream",
     "name": "stdout",
     "text": [
      "object\n",
      "count      416962\n",
      "unique      32734\n",
      "top       5892179\n",
      "freq         1063\n",
      "Name: product_id, dtype: int64\n"
     ]
    }
   ],
   "source": [
    "dataframe['product_id'] = dataframe['product_id'].astype('object')\n",
    "print(dataframe['product_id'].dtype)\n",
    "print(dataframe['product_id'].describe())"
   ]
  },
  {
   "cell_type": "code",
   "execution_count": 4,
   "metadata": {},
   "outputs": [
    {
     "output_type": "stream",
     "name": "stdout",
     "text": [
      "0\n"
     ]
    }
   ],
   "source": [
    "dataframe.fillna(value={'brand':'null'},inplace=True)\n",
    "print(dataframe['brand'].isnull().sum())\n"
   ]
  },
  {
   "cell_type": "code",
   "execution_count": 5,
   "metadata": {},
   "outputs": [
    {
     "output_type": "stream",
     "name": "stdout",
     "text": [
      "datetime64[ns]\n0   2019-10-01 00:00:00\n1   2019-10-01 00:00:03\n2   2019-10-01 00:00:07\n3   2019-10-01 00:02:32\n4   2019-10-01 00:02:40\nName: event_time, dtype: datetime64[ns]\n"
     ]
    }
   ],
   "source": [
    "import datetime\n",
    "\n",
    "index_len = len(dataframe.index)\n",
    "date_list = []\n",
    "\n",
    "for i in range(index_len):\n",
    "    date_str = dataframe['event_time'][i]\n",
    "    date_list.append(datetime.datetime.strptime(date_str[0:19],'%Y-%m-%d %H:%M:%S'))\n",
    "\n",
    "dataframe['event_time'] = pd.DataFrame(date_list)\n",
    "print(dataframe['event_time'].dtype)\n",
    "print(dataframe['event_time'].head())"
   ]
  },
  {
   "cell_type": "code",
   "execution_count": 6,
   "metadata": {},
   "outputs": [
    {
     "output_type": "stream",
     "name": "stdout",
     "text": [
      "Int64Index([63196, 165348], dtype='int64')\n",
      "Int64Index([], dtype='int64')\n"
     ]
    }
   ],
   "source": [
    "print(dataframe[dataframe['price'] < 0].index)\n",
    "dataframe = dataframe.drop(dataframe[dataframe['price'] < 0].index)\n",
    "print(dataframe[dataframe['price'] < 0].index)"
   ]
  },
  {
   "cell_type": "code",
   "execution_count": 7,
   "metadata": {},
   "outputs": [
    {
     "output_type": "stream",
     "name": "stdout",
     "text": [
      "event_time       datetime64[ns]\nevent_type               object\nproduct_id               object\ncategory_id             float64\ncategory_code            object\nbrand                    object\nprice                   float64\nuser_id                   int64\nuser_session             object\ndtype: object\n"
     ]
    }
   ],
   "source": [
    "print(dataframe.dtypes)"
   ]
  },
  {
   "cell_type": "code",
   "execution_count": 8,
   "metadata": {},
   "outputs": [
    {
     "output_type": "stream",
     "name": "stdout",
     "text": [
      "           event_time event_type product_id   category_id category_code  \\\n0 2019-10-01 00:00:00       cart    5773203  1.490000e+18           NaN   \n1 2019-10-01 00:00:03       cart    5773353  1.490000e+18           NaN   \n2 2019-10-01 00:00:07       cart    5723490  1.490000e+18           NaN   \n3 2019-10-01 00:02:32       cart    5857283  1.490000e+18           NaN   \n4 2019-10-01 00:02:40       cart    5723523  1.490000e+18           NaN   \n\n    brand  price  user_id                          user_session  \n0  runail   2.62        1  26dd6e6e-4dac-4778-8d2c-92e149dab885  \n1  runail   2.62        1  26dd6e6e-4dac-4778-8d2c-92e149dab885  \n2  runail   2.62        1  26dd6e6e-4dac-4778-8d2c-92e149dab885  \n3  runail   2.62        1  26dd6e6e-4dac-4778-8d2c-92e149dab885  \n4  runail   2.62        1  26dd6e6e-4dac-4778-8d2c-92e149dab885  \n"
     ]
    }
   ],
   "source": [
    "print(dataframe.head())"
   ]
  },
  {
   "source": [
    "任务分工说明：  \n",
    "1. 产品，价格，品牌是否重叠？重叠度有多高 （王）  \n",
    "2. 价格（连续变量）离散化以及brand空值处理  （王） 注：离群点的存在，合理划分区间  \n",
    "3. 对购买之后的记录进行删除操作 （王）  \n",
    "4. 剔除无购买行为的用户  （王）  \n",
    "5. 构建品牌-价格字典 （张）  \n",
    "6. 设计测试评价指标 （张）  \n",
    "7. 设计个人行为模型，要考虑event,price,brand等变量，并且对event变量做好处理，通过购买产品进行监督训练 （邢）  \n",
    "8. 考虑如何合成公共字典和个人行为模型，以概率的形式输出不同产品购买的可能性 （邢）  \n",
    "  \n",
    "具体要求：  \n",
    "王：返回处理结束后的csv文件，并对重叠度进行基本描述  \n",
    "张：基于新的数据集构建字典，返回字典格式的数据，其中字典中的值为对应产品的频数，实现测试评价指标的代码，输入为预测的概率序列（从高到低），输出为每个产品的召回率和整体的平均倒数排名  \n",
    "邢：实现根据输入变量预测产品输出概率的模型，并设计好训练模式，实现将公共字典中的产品概率与浏览产品的预测概率结合的最终产品概率预测算法  \n"
   ],
   "cell_type": "markdown",
   "metadata": {}
  },
  {
   "cell_type": "code",
   "execution_count": 24,
   "metadata": {},
   "outputs": [
    {
     "output_type": "stream",
     "name": "stdout",
     "text": [
      "[('null', {0: {5802428: 1, 5688124: 1}, 1: {5853646: 1}, 2: {}, 3: {5739989: 1}, 4: {}, 5: {}, 6: {}, 7: {}, 8: {}, 9: {}}), ('runail', {0: {5700046: 1}, 1: {}, 2: {}, 3: {5857283: 1, 5773353: 1, 5773313: 1, 5773203: 1, 5773201: 1, 5723529: 1, 5723523: 1, 5723490: 1}, 4: {5385: 1}, 5: {}, 6: {}, 7: {}, 8: {}, 9: {}}), ('irisk', {0: {}, 1: {}, 2: {}, 3: {}, 4: {}, 5: {}, 6: {}, 7: {}, 8: {}, 9: {}}), ('masura', {0: {}, 1: {}, 2: {}, 3: {}, 4: {}, 5: {}, 6: {}, 7: {}, 8: {}, 9: {}}), ('bpw.style', {0: {}, 1: {}, 2: {}, 3: {}, 4: {}, 5: {}, 6: {}, 7: {}, 8: {}, 9: {}})]\n",
      "ipykernel_launcher:18: UserWarning: Boolean Series key will be reindexed to match DataFrame index.\n"
     ]
    }
   ],
   "source": [
    "#build a dictionary based on brand and price\n",
    "toy_example = {}\n",
    "#print(len(dataframe['brand'].unique()))\n",
    "a = dataframe['brand'].value_counts()\n",
    "price_level = [0,1,2,3,4,5,6,7,8,9] #Discretization\n",
    "for key in a.keys():\n",
    "    toy_example[key] = {}\n",
    "    for val in price_level:\n",
    "        toy_example[key][val] = {}\n",
    "\n",
    "\n",
    "Train_length = dataframe['user_id'].max()\n",
    "valid_event = ['purchase']\n",
    "# basic assumption: purchase event is the most related event, frequency contributes little.\n",
    "user_id = 1\n",
    "\n",
    "while (user_id <= Train_length):\n",
    "    record = dataframe[dataframe['user_id'] == user_id][dataframe['event_type'].isin(valid_event)]\n",
    "    #remove duplicate\n",
    "    update_record = record.drop_duplicates(subset=['product_id'],keep='first',inplace=False)\n",
    "    \n",
    "    for i in update_record.index:\n",
    "        product_id = update_record.loc[i,'product_id']\n",
    "        brand = update_record.loc[i,'brand']\n",
    "        price = update_record.loc[i,'price']\n",
    "        price = round(price)  # wait for Discretization\n",
    "        if product_id not in toy_example[brand][price]:\n",
    "            toy_example[brand][price][product_id] = 1\n",
    "        else:\n",
    "            toy_example[brand][price][product_id] += 1\n",
    "        \n",
    "\n",
    "    user_id += 1\n",
    "    break\n",
    "\n",
    "b = list(toy_example.items())\n",
    "print(b[:5])"
   ]
  },
  {
   "cell_type": "code",
   "execution_count": 35,
   "metadata": {},
   "outputs": [
    {
     "output_type": "stream",
     "name": "stdout",
     "text": [
      "0.5\n0.43333333333333335\n"
     ]
    }
   ],
   "source": [
    "#build a judgement calculation method\n",
    "predict_1 = {5802428: 0.8, 5688124: 0.6, 5739989: 0.4, 5773353: 0.2}\n",
    "truth_1 = [5688124, 5773353, 5385]\n",
    "predict_2 = {5688124:0.7, 5385:0.5, 5555:0.9}\n",
    "truth_2 = [5385,5688124]\n",
    "predict = [predict_1,predict_2]\n",
    "truth = [truth_1,truth_2]\n",
    "#MRR\n",
    "def MRR(p,t):\n",
    "    Q = len(p)\n",
    "    mrr = 0\n",
    "    for i in range(Q):\n",
    "        temp_p = p[i]\n",
    "        temp_t = t[i]\n",
    "        p_value = sorted(temp_p.items(),key= lambda item:item[1], reverse=True)\n",
    "        p_len = len(p_value)\n",
    "        find = False\n",
    "        for j in range(p_len):\n",
    "            k,v = p_value[j]\n",
    "            if k in temp_t:\n",
    "                rank = 1/(j+1)\n",
    "                find = True\n",
    "                break\n",
    "\n",
    "        if find == False:\n",
    "            #optimistic : the recommend algorithm will find truth product next.\n",
    "            rank = 1/(p_len+1)\n",
    "\n",
    "        mrr += rank\n",
    "    mrr /= Q\n",
    "    return mrr\n",
    "\n",
    "print(MRR(predict,truth))\n",
    "\n",
    "#Inclusion Rate: a numerical identifier to measure to what extent truth product is covered by predict product\n",
    "def Inclusion(p,t):\n",
    "    Q = len(p)\n",
    "    inclusion = 0\n",
    "    for i in range(Q):\n",
    "        temp_p = p[i]\n",
    "        temp_t = t[i]\n",
    "        score = 0\n",
    "        for member in temp_t:\n",
    "            if member in temp_p.keys():\n",
    "                score += temp_p[member]\n",
    "        \n",
    "        score /= len(temp_t)\n",
    "        inclusion += score\n",
    "    \n",
    "    inclusion /= Q\n",
    "    return inclusion\n",
    "\n",
    "print(Inclusion(predict,truth))\n"
   ]
  },
  {
   "cell_type": "code",
   "execution_count": null,
   "metadata": {},
   "outputs": [],
   "source": []
  }
 ]
}
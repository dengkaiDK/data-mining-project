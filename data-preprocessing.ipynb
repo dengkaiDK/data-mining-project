{
 "cells": [
  {
   "cell_type": "markdown",
   "metadata": {},
   "source": [
    "# 中期报告\n",
    "\n",
    "### 成员：\n",
    "\n",
    "-张登凯(3220201003)\n",
    "\n",
    "-王英杰(5720201111) \n",
    "\n",
    "-邢晓宇(5720201116)"
   ]
  },
  {
   "cell_type": "code",
   "execution_count": 1,
   "metadata": {},
   "outputs": [],
   "source": [
    "import pandas as pd\n",
    "import numpy as np\n",
    "import matplotlib.pyplot as plt\n",
    "import statsmodels.api as sm"
   ]
  },
  {
   "cell_type": "markdown",
   "metadata": {},
   "source": [
    "### 读取数据"
   ]
  },
  {
   "cell_type": "code",
   "execution_count": 2,
   "metadata": {},
   "outputs": [],
   "source": [
    "train = pd.read_csv(\"train.csv\")\n",
    "test = pd.read_csv(\"test.csv\")"
   ]
  },
  {
   "cell_type": "markdown",
   "metadata": {},
   "source": [
    "### 数据分析\n",
    "\n",
    "数据集中共有9列，训练集416962行，测试集5164行。其中有4列是数值属性，5列是标称属性。"
   ]
  },
  {
   "cell_type": "code",
   "execution_count": 3,
   "metadata": {},
   "outputs": [
    {
     "name": "stdout",
     "output_type": "stream",
     "text": [
      "9 columns\n",
      "train: 416962 rows\n",
      "test: 5164 rows\n",
      "object     5\n",
      "int64      2\n",
      "float64    2\n",
      "dtype: int64\n"
     ]
    }
   ],
   "source": [
    "print('%d columns' % len(train.columns))\n",
    "print('train: %d rows' % len(train.index))\n",
    "print('test: %d rows' % len(test.index))\n",
    "print(train.dtypes.value_counts())"
   ]
  },
  {
   "cell_type": "markdown",
   "metadata": {},
   "source": [
    "训练集的前五行展示如下："
   ]
  },
  {
   "cell_type": "code",
   "execution_count": 4,
   "metadata": {},
   "outputs": [
    {
     "data": {
      "text/html": [
       "<div>\n",
       "<style scoped>\n",
       "    .dataframe tbody tr th:only-of-type {\n",
       "        vertical-align: middle;\n",
       "    }\n",
       "\n",
       "    .dataframe tbody tr th {\n",
       "        vertical-align: top;\n",
       "    }\n",
       "\n",
       "    .dataframe thead th {\n",
       "        text-align: right;\n",
       "    }\n",
       "</style>\n",
       "<table border=\"1\" class=\"dataframe\">\n",
       "  <thead>\n",
       "    <tr style=\"text-align: right;\">\n",
       "      <th></th>\n",
       "      <th>event_time</th>\n",
       "      <th>event_type</th>\n",
       "      <th>product_id</th>\n",
       "      <th>category_id</th>\n",
       "      <th>category_code</th>\n",
       "      <th>brand</th>\n",
       "      <th>price</th>\n",
       "      <th>user_id</th>\n",
       "      <th>user_session</th>\n",
       "    </tr>\n",
       "  </thead>\n",
       "  <tbody>\n",
       "    <tr>\n",
       "      <th>0</th>\n",
       "      <td>2019-10-01 00:00:00 UTC</td>\n",
       "      <td>cart</td>\n",
       "      <td>5773203</td>\n",
       "      <td>1.490000e+18</td>\n",
       "      <td>NaN</td>\n",
       "      <td>runail</td>\n",
       "      <td>2.62</td>\n",
       "      <td>1</td>\n",
       "      <td>26dd6e6e-4dac-4778-8d2c-92e149dab885</td>\n",
       "    </tr>\n",
       "    <tr>\n",
       "      <th>1</th>\n",
       "      <td>2019-10-01 00:00:03 UTC</td>\n",
       "      <td>cart</td>\n",
       "      <td>5773353</td>\n",
       "      <td>1.490000e+18</td>\n",
       "      <td>NaN</td>\n",
       "      <td>runail</td>\n",
       "      <td>2.62</td>\n",
       "      <td>1</td>\n",
       "      <td>26dd6e6e-4dac-4778-8d2c-92e149dab885</td>\n",
       "    </tr>\n",
       "    <tr>\n",
       "      <th>2</th>\n",
       "      <td>2019-10-01 00:00:07 UTC</td>\n",
       "      <td>cart</td>\n",
       "      <td>5723490</td>\n",
       "      <td>1.490000e+18</td>\n",
       "      <td>NaN</td>\n",
       "      <td>runail</td>\n",
       "      <td>2.62</td>\n",
       "      <td>1</td>\n",
       "      <td>26dd6e6e-4dac-4778-8d2c-92e149dab885</td>\n",
       "    </tr>\n",
       "    <tr>\n",
       "      <th>3</th>\n",
       "      <td>2019-10-01 00:02:32 UTC</td>\n",
       "      <td>cart</td>\n",
       "      <td>5857283</td>\n",
       "      <td>1.490000e+18</td>\n",
       "      <td>NaN</td>\n",
       "      <td>runail</td>\n",
       "      <td>2.62</td>\n",
       "      <td>1</td>\n",
       "      <td>26dd6e6e-4dac-4778-8d2c-92e149dab885</td>\n",
       "    </tr>\n",
       "    <tr>\n",
       "      <th>4</th>\n",
       "      <td>2019-10-01 00:02:40 UTC</td>\n",
       "      <td>cart</td>\n",
       "      <td>5723523</td>\n",
       "      <td>1.490000e+18</td>\n",
       "      <td>NaN</td>\n",
       "      <td>runail</td>\n",
       "      <td>2.62</td>\n",
       "      <td>1</td>\n",
       "      <td>26dd6e6e-4dac-4778-8d2c-92e149dab885</td>\n",
       "    </tr>\n",
       "  </tbody>\n",
       "</table>\n",
       "</div>"
      ],
      "text/plain": [
       "                event_time event_type  product_id   category_id category_code  \\\n",
       "0  2019-10-01 00:00:00 UTC       cart     5773203  1.490000e+18           NaN   \n",
       "1  2019-10-01 00:00:03 UTC       cart     5773353  1.490000e+18           NaN   \n",
       "2  2019-10-01 00:00:07 UTC       cart     5723490  1.490000e+18           NaN   \n",
       "3  2019-10-01 00:02:32 UTC       cart     5857283  1.490000e+18           NaN   \n",
       "4  2019-10-01 00:02:40 UTC       cart     5723523  1.490000e+18           NaN   \n",
       "\n",
       "    brand  price  user_id                          user_session  \n",
       "0  runail   2.62        1  26dd6e6e-4dac-4778-8d2c-92e149dab885  \n",
       "1  runail   2.62        1  26dd6e6e-4dac-4778-8d2c-92e149dab885  \n",
       "2  runail   2.62        1  26dd6e6e-4dac-4778-8d2c-92e149dab885  \n",
       "3  runail   2.62        1  26dd6e6e-4dac-4778-8d2c-92e149dab885  \n",
       "4  runail   2.62        1  26dd6e6e-4dac-4778-8d2c-92e149dab885  "
      ]
     },
     "execution_count": 4,
     "metadata": {},
     "output_type": "execute_result"
    }
   ],
   "source": [
    "train.head()"
   ]
  },
  {
   "cell_type": "markdown",
   "metadata": {},
   "source": [
    "测试集的前五行展示如下："
   ]
  },
  {
   "cell_type": "code",
   "execution_count": 5,
   "metadata": {},
   "outputs": [
    {
     "data": {
      "text/html": [
       "<div>\n",
       "<style scoped>\n",
       "    .dataframe tbody tr th:only-of-type {\n",
       "        vertical-align: middle;\n",
       "    }\n",
       "\n",
       "    .dataframe tbody tr th {\n",
       "        vertical-align: top;\n",
       "    }\n",
       "\n",
       "    .dataframe thead th {\n",
       "        text-align: right;\n",
       "    }\n",
       "</style>\n",
       "<table border=\"1\" class=\"dataframe\">\n",
       "  <thead>\n",
       "    <tr style=\"text-align: right;\">\n",
       "      <th></th>\n",
       "      <th>event_time</th>\n",
       "      <th>event_type</th>\n",
       "      <th>product_id</th>\n",
       "      <th>category_id</th>\n",
       "      <th>category_code</th>\n",
       "      <th>brand</th>\n",
       "      <th>price</th>\n",
       "      <th>user_id</th>\n",
       "      <th>user_session</th>\n",
       "    </tr>\n",
       "  </thead>\n",
       "  <tbody>\n",
       "    <tr>\n",
       "      <th>0</th>\n",
       "      <td>2019-10-03 08:14:04 UTC</td>\n",
       "      <td>view</td>\n",
       "      <td>5651977</td>\n",
       "      <td>1.490000e+18</td>\n",
       "      <td>NaN</td>\n",
       "      <td>NaN</td>\n",
       "      <td>31.73</td>\n",
       "      <td>53978</td>\n",
       "      <td>ee964fbc-668b-41c9-94d5-46e5bd82d174</td>\n",
       "    </tr>\n",
       "    <tr>\n",
       "      <th>1</th>\n",
       "      <td>2019-10-03 08:14:41 UTC</td>\n",
       "      <td>view</td>\n",
       "      <td>37987</td>\n",
       "      <td>1.490000e+18</td>\n",
       "      <td>NaN</td>\n",
       "      <td>runail</td>\n",
       "      <td>42.86</td>\n",
       "      <td>53978</td>\n",
       "      <td>ee964fbc-668b-41c9-94d5-46e5bd82d174</td>\n",
       "    </tr>\n",
       "    <tr>\n",
       "      <th>2</th>\n",
       "      <td>2019-10-03 08:14:08 UTC</td>\n",
       "      <td>view</td>\n",
       "      <td>5753054</td>\n",
       "      <td>1.490000e+18</td>\n",
       "      <td>NaN</td>\n",
       "      <td>NaN</td>\n",
       "      <td>0.79</td>\n",
       "      <td>53980</td>\n",
       "      <td>3f482f26-5f0c-4bd7-bc3d-29a1ad5103ee</td>\n",
       "    </tr>\n",
       "    <tr>\n",
       "      <th>3</th>\n",
       "      <td>2019-10-03 08:17:21 UTC</td>\n",
       "      <td>cart</td>\n",
       "      <td>5753054</td>\n",
       "      <td>1.490000e+18</td>\n",
       "      <td>NaN</td>\n",
       "      <td>NaN</td>\n",
       "      <td>0.79</td>\n",
       "      <td>53980</td>\n",
       "      <td>3f482f26-5f0c-4bd7-bc3d-29a1ad5103ee</td>\n",
       "    </tr>\n",
       "    <tr>\n",
       "      <th>4</th>\n",
       "      <td>2019-10-03 08:17:24 UTC</td>\n",
       "      <td>cart</td>\n",
       "      <td>5753054</td>\n",
       "      <td>1.490000e+18</td>\n",
       "      <td>NaN</td>\n",
       "      <td>NaN</td>\n",
       "      <td>0.79</td>\n",
       "      <td>53980</td>\n",
       "      <td>3f482f26-5f0c-4bd7-bc3d-29a1ad5103ee</td>\n",
       "    </tr>\n",
       "  </tbody>\n",
       "</table>\n",
       "</div>"
      ],
      "text/plain": [
       "                event_time event_type  product_id   category_id category_code  \\\n",
       "0  2019-10-03 08:14:04 UTC       view     5651977  1.490000e+18           NaN   \n",
       "1  2019-10-03 08:14:41 UTC       view       37987  1.490000e+18           NaN   \n",
       "2  2019-10-03 08:14:08 UTC       view     5753054  1.490000e+18           NaN   \n",
       "3  2019-10-03 08:17:21 UTC       cart     5753054  1.490000e+18           NaN   \n",
       "4  2019-10-03 08:17:24 UTC       cart     5753054  1.490000e+18           NaN   \n",
       "\n",
       "    brand  price  user_id                          user_session  \n",
       "0     NaN  31.73    53978  ee964fbc-668b-41c9-94d5-46e5bd82d174  \n",
       "1  runail  42.86    53978  ee964fbc-668b-41c9-94d5-46e5bd82d174  \n",
       "2     NaN   0.79    53980  3f482f26-5f0c-4bd7-bc3d-29a1ad5103ee  \n",
       "3     NaN   0.79    53980  3f482f26-5f0c-4bd7-bc3d-29a1ad5103ee  \n",
       "4     NaN   0.79    53980  3f482f26-5f0c-4bd7-bc3d-29a1ad5103ee  "
      ]
     },
     "execution_count": 5,
     "metadata": {},
     "output_type": "execute_result"
    }
   ],
   "source": [
    "test.head()"
   ]
  },
  {
   "cell_type": "markdown",
   "metadata": {},
   "source": [
    "统计训练集每一个属性的缺失值总数。"
   ]
  },
  {
   "cell_type": "code",
   "execution_count": 6,
   "metadata": {},
   "outputs": [
    {
     "data": {
      "text/plain": [
       "event_time            0\n",
       "event_type            0\n",
       "product_id            0\n",
       "category_id           0\n",
       "category_code    410798\n",
       "brand            164944\n",
       "price                 0\n",
       "user_id               0\n",
       "user_session         38\n",
       "dtype: int64"
      ]
     },
     "execution_count": 6,
     "metadata": {},
     "output_type": "execute_result"
    }
   ],
   "source": [
    "train.isna().sum()"
   ]
  },
  {
   "cell_type": "markdown",
   "metadata": {},
   "source": [
    "统计测试集每一个属性的缺失值总数。"
   ]
  },
  {
   "cell_type": "code",
   "execution_count": 7,
   "metadata": {},
   "outputs": [
    {
     "data": {
      "text/plain": [
       "event_time          0\n",
       "event_type          0\n",
       "product_id          0\n",
       "category_id         0\n",
       "category_code    5065\n",
       "brand            2076\n",
       "price               0\n",
       "user_id             0\n",
       "user_session        2\n",
       "dtype: int64"
      ]
     },
     "execution_count": 7,
     "metadata": {},
     "output_type": "execute_result"
    }
   ],
   "source": [
    "test.isna().sum()"
   ]
  },
  {
   "cell_type": "markdown",
   "metadata": {},
   "source": [
    "训练集的五数概括。"
   ]
  },
  {
   "cell_type": "code",
   "execution_count": 8,
   "metadata": {},
   "outputs": [
    {
     "data": {
      "text/html": [
       "<div>\n",
       "<style scoped>\n",
       "    .dataframe tbody tr th:only-of-type {\n",
       "        vertical-align: middle;\n",
       "    }\n",
       "\n",
       "    .dataframe tbody tr th {\n",
       "        vertical-align: top;\n",
       "    }\n",
       "\n",
       "    .dataframe thead th {\n",
       "        text-align: right;\n",
       "    }\n",
       "</style>\n",
       "<table border=\"1\" class=\"dataframe\">\n",
       "  <thead>\n",
       "    <tr style=\"text-align: right;\">\n",
       "      <th></th>\n",
       "      <th>product_id</th>\n",
       "      <th>category_id</th>\n",
       "      <th>price</th>\n",
       "      <th>user_id</th>\n",
       "    </tr>\n",
       "  </thead>\n",
       "  <tbody>\n",
       "    <tr>\n",
       "      <th>count</th>\n",
       "      <td>4.169620e+05</td>\n",
       "      <td>4.169620e+05</td>\n",
       "      <td>416962.000000</td>\n",
       "      <td>416962.000000</td>\n",
       "    </tr>\n",
       "    <tr>\n",
       "      <th>mean</th>\n",
       "      <td>5.498023e+06</td>\n",
       "      <td>1.556230e+18</td>\n",
       "      <td>8.290661</td>\n",
       "      <td>23290.071587</td>\n",
       "    </tr>\n",
       "    <tr>\n",
       "      <th>std</th>\n",
       "      <td>1.268676e+06</td>\n",
       "      <td>1.644289e+17</td>\n",
       "      <td>17.846968</td>\n",
       "      <td>16642.334912</td>\n",
       "    </tr>\n",
       "    <tr>\n",
       "      <th>min</th>\n",
       "      <td>3.752000e+03</td>\n",
       "      <td>1.490000e+18</td>\n",
       "      <td>-23.810000</td>\n",
       "      <td>1.000000</td>\n",
       "    </tr>\n",
       "    <tr>\n",
       "      <th>25%</th>\n",
       "      <td>5.729011e+06</td>\n",
       "      <td>1.490000e+18</td>\n",
       "      <td>2.370000</td>\n",
       "      <td>7743.000000</td>\n",
       "    </tr>\n",
       "    <tr>\n",
       "      <th>50%</th>\n",
       "      <td>5.809809e+06</td>\n",
       "      <td>1.490000e+18</td>\n",
       "      <td>4.110000</td>\n",
       "      <td>21213.000000</td>\n",
       "    </tr>\n",
       "    <tr>\n",
       "      <th>75%</th>\n",
       "      <td>5.850305e+06</td>\n",
       "      <td>1.490000e+18</td>\n",
       "      <td>7.270000</td>\n",
       "      <td>37673.000000</td>\n",
       "    </tr>\n",
       "    <tr>\n",
       "      <th>max</th>\n",
       "      <td>5.892800e+06</td>\n",
       "      <td>2.200000e+18</td>\n",
       "      <td>299.810000</td>\n",
       "      <td>53975.000000</td>\n",
       "    </tr>\n",
       "  </tbody>\n",
       "</table>\n",
       "</div>"
      ],
      "text/plain": [
       "         product_id   category_id          price        user_id\n",
       "count  4.169620e+05  4.169620e+05  416962.000000  416962.000000\n",
       "mean   5.498023e+06  1.556230e+18       8.290661   23290.071587\n",
       "std    1.268676e+06  1.644289e+17      17.846968   16642.334912\n",
       "min    3.752000e+03  1.490000e+18     -23.810000       1.000000\n",
       "25%    5.729011e+06  1.490000e+18       2.370000    7743.000000\n",
       "50%    5.809809e+06  1.490000e+18       4.110000   21213.000000\n",
       "75%    5.850305e+06  1.490000e+18       7.270000   37673.000000\n",
       "max    5.892800e+06  2.200000e+18     299.810000   53975.000000"
      ]
     },
     "execution_count": 8,
     "metadata": {},
     "output_type": "execute_result"
    }
   ],
   "source": [
    "train.describe()"
   ]
  },
  {
   "cell_type": "markdown",
   "metadata": {},
   "source": [
    "测试集的五数概括。"
   ]
  },
  {
   "cell_type": "code",
   "execution_count": 9,
   "metadata": {},
   "outputs": [
    {
     "data": {
      "text/html": [
       "<div>\n",
       "<style scoped>\n",
       "    .dataframe tbody tr th:only-of-type {\n",
       "        vertical-align: middle;\n",
       "    }\n",
       "\n",
       "    .dataframe tbody tr th {\n",
       "        vertical-align: top;\n",
       "    }\n",
       "\n",
       "    .dataframe thead th {\n",
       "        text-align: right;\n",
       "    }\n",
       "</style>\n",
       "<table border=\"1\" class=\"dataframe\">\n",
       "  <thead>\n",
       "    <tr style=\"text-align: right;\">\n",
       "      <th></th>\n",
       "      <th>product_id</th>\n",
       "      <th>category_id</th>\n",
       "      <th>price</th>\n",
       "      <th>user_id</th>\n",
       "    </tr>\n",
       "  </thead>\n",
       "  <tbody>\n",
       "    <tr>\n",
       "      <th>count</th>\n",
       "      <td>5.164000e+03</td>\n",
       "      <td>5.164000e+03</td>\n",
       "      <td>5164.000000</td>\n",
       "      <td>5164.000000</td>\n",
       "    </tr>\n",
       "    <tr>\n",
       "      <th>mean</th>\n",
       "      <td>5.452999e+06</td>\n",
       "      <td>1.544169e+18</td>\n",
       "      <td>7.135132</td>\n",
       "      <td>60802.616770</td>\n",
       "    </tr>\n",
       "    <tr>\n",
       "      <th>std</th>\n",
       "      <td>1.342040e+06</td>\n",
       "      <td>1.607254e+17</td>\n",
       "      <td>14.216354</td>\n",
       "      <td>6421.789687</td>\n",
       "    </tr>\n",
       "    <tr>\n",
       "      <th>min</th>\n",
       "      <td>3.762000e+03</td>\n",
       "      <td>1.490000e+18</td>\n",
       "      <td>0.000000</td>\n",
       "      <td>53978.000000</td>\n",
       "    </tr>\n",
       "    <tr>\n",
       "      <th>25%</th>\n",
       "      <td>5.711138e+06</td>\n",
       "      <td>1.490000e+18</td>\n",
       "      <td>2.050000</td>\n",
       "      <td>54193.000000</td>\n",
       "    </tr>\n",
       "    <tr>\n",
       "      <th>50%</th>\n",
       "      <td>5.799410e+06</td>\n",
       "      <td>1.490000e+18</td>\n",
       "      <td>3.800000</td>\n",
       "      <td>66787.000000</td>\n",
       "    </tr>\n",
       "    <tr>\n",
       "      <th>75%</th>\n",
       "      <td>5.848896e+06</td>\n",
       "      <td>1.490000e+18</td>\n",
       "      <td>6.270000</td>\n",
       "      <td>67021.000000</td>\n",
       "    </tr>\n",
       "    <tr>\n",
       "      <th>max</th>\n",
       "      <td>5.892678e+06</td>\n",
       "      <td>2.200000e+18</td>\n",
       "      <td>207.940000</td>\n",
       "      <td>67469.000000</td>\n",
       "    </tr>\n",
       "  </tbody>\n",
       "</table>\n",
       "</div>"
      ],
      "text/plain": [
       "         product_id   category_id        price       user_id\n",
       "count  5.164000e+03  5.164000e+03  5164.000000   5164.000000\n",
       "mean   5.452999e+06  1.544169e+18     7.135132  60802.616770\n",
       "std    1.342040e+06  1.607254e+17    14.216354   6421.789687\n",
       "min    3.762000e+03  1.490000e+18     0.000000  53978.000000\n",
       "25%    5.711138e+06  1.490000e+18     2.050000  54193.000000\n",
       "50%    5.799410e+06  1.490000e+18     3.800000  66787.000000\n",
       "75%    5.848896e+06  1.490000e+18     6.270000  67021.000000\n",
       "max    5.892678e+06  2.200000e+18   207.940000  67469.000000"
      ]
     },
     "execution_count": 9,
     "metadata": {},
     "output_type": "execute_result"
    }
   ],
   "source": [
    "test.describe()"
   ]
  },
  {
   "cell_type": "code",
   "execution_count": 10,
   "metadata": {},
   "outputs": [],
   "source": [
    "def summary_column(data,col_name):\n",
    "    col = data[col_name].value_counts()\n",
    "    print('Colunm name:', col_name)\n",
    "    print('%d different values.' % len(col))\n",
    "    print()\n",
    "    col = data[col_name].value_counts()\n",
    "    col_data = col.to_frame()\n",
    "    col_data['frequency'] = col.apply(lambda x: x / len(data.index))\n",
    "    col_data.rename(columns={col_name: 'counts'}, inplace=True)\n",
    "    if len(col)>15:\n",
    "       print(col_data.iloc[:15])\n",
    "       print('...')\n",
    "    else:\n",
    "        print(col_data.iloc[:len(col)])\n",
    "    if len(col)>15:\n",
    "       plt.bar(np.arange(15), col.iloc[:15])\n",
    "    else: \n",
    "       plt.bar(np.arange(len(col)),col.iloc[:len(col)])\n",
    "    plt.title(col_name)\n",
    "    plt.show()"
   ]
  },
  {
   "cell_type": "markdown",
   "metadata": {},
   "source": [
    "训练集属性**event_type**的统计如下。"
   ]
  },
  {
   "cell_type": "code",
   "execution_count": 11,
   "metadata": {},
   "outputs": [
    {
     "name": "stdout",
     "output_type": "stream",
     "text": [
      "Colunm name: event_type\n",
      "4 different values.\n",
      "\n",
      "                  counts  frequency\n",
      "view              168854   0.404963\n",
      "cart              155372   0.372629\n",
      "remove_from_cart   68800   0.165003\n",
      "purchase           23936   0.057406\n"
     ]
    },
    {
     "data": {
      "image/png": "[encoded data removed]",
      "text/plain": [
       "<Figure size 432x288 with 1 Axes>"
      ]
     },
     "metadata": {
      "needs_background": "light"
     },
     "output_type": "display_data"
    }
   ],
   "source": [
    "summary_column(train,'event_type')"
   ]
  },
  {
   "cell_type": "markdown",
   "metadata": {},
   "source": [
    "测试集属性**event_type**的统计如下。"
   ]
  },
  {
   "cell_type": "code",
   "execution_count": 12,
   "metadata": {},
   "outputs": [
    {
     "name": "stdout",
     "output_type": "stream",
     "text": [
      "Colunm name: event_type\n",
      "4 different values.\n",
      "\n",
      "                  counts  frequency\n",
      "view                2031   0.393300\n",
      "cart                1952   0.378002\n",
      "remove_from_cart     897   0.173703\n",
      "purchase             284   0.054996\n"
     ]
    },
    {
     "data": {
      "image/png": "[encoded data removed]",
      "text/plain": [
       "<Figure size 432x288 with 1 Axes>"
      ]
     },
     "metadata": {
      "needs_background": "light"
     },
     "output_type": "display_data"
    }
   ],
   "source": [
    "summary_column(test,'event_type')"
   ]
  },
  {
   "cell_type": "markdown",
   "metadata": {},
   "source": [
    "训练集属性**product_id**的统计如下。"
   ]
  },
  {
   "cell_type": "code",
   "execution_count": 13,
   "metadata": {},
   "outputs": [
    {
     "name": "stdout",
     "output_type": "stream",
     "text": [
      "Colunm name: product_id\n",
      "32734 different values.\n",
      "\n",
      "         counts  frequency\n",
      "5892179    1063   0.002549\n",
      "5809912     981   0.002353\n",
      "5751383     843   0.002022\n",
      "5751422     831   0.001993\n",
      "5849033     793   0.001902\n",
      "5700037     751   0.001801\n",
      "5886064     730   0.001751\n",
      "5792800     690   0.001655\n",
      "5886282     637   0.001528\n",
      "5877454     631   0.001513\n",
      "5802432     591   0.001417\n",
      "5856186     530   0.001271\n",
      "5773361     505   0.001211\n",
      "5688124     502   0.001204\n",
      "5854897     494   0.001185\n",
      "...\n"
     ]
    },
    {
     "data": {
      "image/png": "[encoded data removed]",
      "text/plain": [
       "<Figure size 432x288 with 1 Axes>"
      ]
     },
     "metadata": {
      "needs_background": "light"
     },
     "output_type": "display_data"
    }
   ],
   "source": [
    "summary_column(train,'product_id')"
   ]
  },
  {
   "cell_type": "markdown",
   "metadata": {},
   "source": [
    "测试集属性**product_id**的统计如下。"
   ]
  },
  {
   "cell_type": "code",
   "execution_count": 14,
   "metadata": {},
   "outputs": [
    {
     "name": "stdout",
     "output_type": "stream",
     "text": [
      "Colunm name: product_id\n",
      "2691 different values.\n",
      "\n",
      "         counts  frequency\n",
      "5700037      28   0.005422\n",
      "5809912      27   0.005229\n",
      "5723511      22   0.004260\n",
      "5723490      18   0.003486\n",
      "5649236      17   0.003292\n",
      "5856935      17   0.003292\n",
      "5723523      15   0.002905\n",
      "5849033      14   0.002711\n",
      "5829276      13   0.002517\n",
      "5792800      13   0.002517\n",
      "5723518      12   0.002324\n",
      "5526         12   0.002324\n",
      "5759180      10   0.001936\n",
      "5773606      10   0.001936\n",
      "5751383      10   0.001936\n",
      "...\n"
     ]
    },
    {
     "data": {
      "image/png": "[encoded data removed]",
      "text/plain": [
       "<Figure size 432x288 with 1 Axes>"
      ]
     },
     "metadata": {
      "needs_background": "light"
     },
     "output_type": "display_data"
    }
   ],
   "source": [
    "summary_column(test,'product_id')"
   ]
  },
  {
   "cell_type": "markdown",
   "metadata": {},
   "source": [
    "训练集属性**category_id**的统计如下。"
   ]
  },
  {
   "cell_type": "code",
   "execution_count": 15,
   "metadata": {},
   "outputs": [
    {
     "name": "stdout",
     "output_type": "stream",
     "text": [
      "Colunm name: category_id\n",
      "55 different values.\n",
      "\n",
      "              counts  frequency\n",
      "1.490000e+18  340413   0.816413\n",
      "1.780000e+18   14392   0.034516\n",
      "1.600000e+18    7800   0.018707\n",
      "2.150000e+18    5601   0.013433\n",
      "2.080000e+18    4313   0.010344\n",
      "1.920000e+18    4016   0.009632\n",
      "1.840000e+18    3014   0.007228\n",
      "1.640000e+18    2751   0.006598\n",
      "1.660000e+18    2702   0.006480\n",
      "1.530000e+18    2616   0.006274\n",
      "1.900000e+18    1867   0.004478\n",
      "1.890000e+18    1555   0.003729\n",
      "1.980000e+18    1514   0.003631\n",
      "2.200000e+18    1394   0.003343\n",
      "2.190000e+18    1324   0.003175\n",
      "...\n"
     ]
    },
    {
     "data": {
      "image/png": "[encoded data removed]",
      "text/plain": [
       "<Figure size 432x288 with 1 Axes>"
      ]
     },
     "metadata": {
      "needs_background": "light"
     },
     "output_type": "display_data"
    }
   ],
   "source": [
    "summary_column(train,'category_id')"
   ]
  },
  {
   "cell_type": "markdown",
   "metadata": {},
   "source": [
    "测试集属性**category_id**的统计如下。"
   ]
  },
  {
   "cell_type": "code",
   "execution_count": 16,
   "metadata": {},
   "outputs": [
    {
     "name": "stdout",
     "output_type": "stream",
     "text": [
      "Colunm name: category_id\n",
      "45 different values.\n",
      "\n",
      "              counts  frequency\n",
      "1.490000e+18    4489   0.869287\n",
      "1.600000e+18     117   0.022657\n",
      "1.780000e+18      91   0.017622\n",
      "2.080000e+18      70   0.013555\n",
      "2.150000e+18      51   0.009876\n",
      "2.200000e+18      38   0.007359\n",
      "2.110000e+18      24   0.004648\n",
      "2.140000e+18      24   0.004648\n",
      "2.010000e+18      22   0.004260\n",
      "2.190000e+18      19   0.003679\n",
      "1.900000e+18      18   0.003486\n",
      "2.060000e+18      17   0.003292\n",
      "1.920000e+18      17   0.003292\n",
      "1.940000e+18      14   0.002711\n",
      "1.500000e+18      13   0.002517\n",
      "...\n"
     ]
    },
    {
     "data": {
      "image/png": "[encoded data removed]",
      "text/plain": [
       "<Figure size 432x288 with 1 Axes>"
      ]
     },
     "metadata": {
      "needs_background": "light"
     },
     "output_type": "display_data"
    }
   ],
   "source": [
    "summary_column(test,'category_id')"
   ]
  },
  {
   "cell_type": "markdown",
   "metadata": {},
   "source": [
    "训练集属性**brand**的统计如下。"
   ]
  },
  {
   "cell_type": "code",
   "execution_count": 17,
   "metadata": {},
   "outputs": [
    {
     "name": "stdout",
     "output_type": "stream",
     "text": [
      "Colunm name: brand\n",
      "222 different values.\n",
      "\n",
      "           counts  frequency\n",
      "runail      40857   0.097987\n",
      "irisk       18348   0.044004\n",
      "masura      14395   0.034524\n",
      "bpw.style   10712   0.025691\n",
      "grattol      9901   0.023746\n",
      "ingarden     8476   0.020328\n",
      "bluesky      7643   0.018330\n",
      "estel        6500   0.015589\n",
      "kapous       5072   0.012164\n",
      "uno          4712   0.011301\n",
      "freedecor    4626   0.011095\n",
      "cnd          4513   0.010824\n",
      "haruyama     4293   0.010296\n",
      "pole         4251   0.010195\n",
      "oniq         4044   0.009699\n",
      "...\n"
     ]
    },
    {
     "data": {
      "image/png": "[encoded data removed]",
      "text/plain": [
       "<Figure size 432x288 with 1 Axes>"
      ]
     },
     "metadata": {
      "needs_background": "light"
     },
     "output_type": "display_data"
    }
   ],
   "source": [
    "summary_column(train,'brand')"
   ]
  },
  {
   "cell_type": "markdown",
   "metadata": {},
   "source": [
    "测试集属性**brand**的统计如下。"
   ]
  },
  {
   "cell_type": "code",
   "execution_count": 18,
   "metadata": {},
   "outputs": [
    {
     "name": "stdout",
     "output_type": "stream",
     "text": [
      "Colunm name: brand\n",
      "125 different values.\n",
      "\n",
      "           counts  frequency\n",
      "runail        733   0.141944\n",
      "irisk         243   0.047057\n",
      "bpw.style     175   0.033888\n",
      "masura        141   0.027304\n",
      "ingarden      141   0.027304\n",
      "grattol       136   0.026336\n",
      "haruyama      120   0.023238\n",
      "cnd           102   0.019752\n",
      "estel          85   0.016460\n",
      "freedecor      60   0.011619\n",
      "milv           60   0.011619\n",
      "kapous         58   0.011232\n",
      "concept        56   0.010844\n",
      "uno            47   0.009101\n",
      "bluesky        47   0.009101\n",
      "...\n"
     ]
    },
    {
     "data": {
      "image/png": "[encoded data removed]",
      "text/plain": [
       "<Figure size 432x288 with 1 Axes>"
      ]
     },
     "metadata": {
      "needs_background": "light"
     },
     "output_type": "display_data"
    }
   ],
   "source": [
    "summary_column(test,'brand')"
   ]
  },
  {
   "cell_type": "markdown",
   "metadata": {},
   "source": [
    "训练集属性**user_id**的统计如下。"
   ]
  },
  {
   "cell_type": "code",
   "execution_count": 19,
   "metadata": {},
   "outputs": [
    {
     "name": "stdout",
     "output_type": "stream",
     "text": [
      "Colunm name: user_id\n",
      "53975 different values.\n",
      "\n",
      "       counts  frequency\n",
      "6607     2355   0.005648\n",
      "31528     801   0.001921\n",
      "27732     640   0.001535\n",
      "45594     636   0.001525\n",
      "3866      553   0.001326\n",
      "2868      542   0.001300\n",
      "3226      482   0.001156\n",
      "5915      471   0.001130\n",
      "11650     462   0.001108\n",
      "3835      459   0.001101\n",
      "46751     418   0.001002\n",
      "5907      417   0.001000\n",
      "51789     409   0.000981\n",
      "2558      399   0.000957\n",
      "3850      389   0.000933\n",
      "...\n"
     ]
    },
    {
     "data": {
      "image/png": "[encoded data removed]",
      "text/plain": [
       "<Figure size 432x288 with 1 Axes>"
      ]
     },
     "metadata": {
      "needs_background": "light"
     },
     "output_type": "display_data"
    }
   ],
   "source": [
    "summary_column(train,'user_id')"
   ]
  },
  {
   "cell_type": "markdown",
   "metadata": {},
   "source": [
    "测试集属性**user_id**的统计如下。"
   ]
  },
  {
   "cell_type": "code",
   "execution_count": 20,
   "metadata": {},
   "outputs": [
    {
     "name": "stdout",
     "output_type": "stream",
     "text": [
      "Colunm name: user_id\n",
      "558 different values.\n",
      "\n",
      "       counts  frequency\n",
      "54193     141   0.027304\n",
      "54284     139   0.026917\n",
      "54081      98   0.018978\n",
      "54241      86   0.016654\n",
      "67010      83   0.016073\n",
      "66877      76   0.014717\n",
      "67040      71   0.013749\n",
      "54385      67   0.012974\n",
      "54333      62   0.012006\n",
      "54165      62   0.012006\n",
      "67398      57   0.011038\n",
      "66835      55   0.010651\n",
      "54071      49   0.009489\n",
      "67098      48   0.009295\n",
      "54004      48   0.009295\n",
      "...\n"
     ]
    },
    {
     "data": {
      "image/png": "[encoded data removed]",
      "text/plain": [
       "<Figure size 432x288 with 1 Axes>"
      ]
     },
     "metadata": {
      "needs_background": "light"
     },
     "output_type": "display_data"
    }
   ],
   "source": [
    "summary_column(test,'user_id')"
   ]
  },
  {
   "cell_type": "markdown",
   "metadata": {},
   "source": [
    "### 数据清理\n",
    "通过上述简要的数据分析，发现存在属性**price**小于0的记录，因此需要将这些记录清除。\n",
    "\n",
    "除此之外，由于属性**category_code**和**user_session**具有缺失值，且对问题分析帮助不大，也将其清除。"
   ]
  },
  {
   "cell_type": "code",
   "execution_count": 21,
   "metadata": {},
   "outputs": [
    {
     "data": {
      "text/html": [
       "<div>\n",
       "<style scoped>\n",
       "    .dataframe tbody tr th:only-of-type {\n",
       "        vertical-align: middle;\n",
       "    }\n",
       "\n",
       "    .dataframe tbody tr th {\n",
       "        vertical-align: top;\n",
       "    }\n",
       "\n",
       "    .dataframe thead th {\n",
       "        text-align: right;\n",
       "    }\n",
       "</style>\n",
       "<table border=\"1\" class=\"dataframe\">\n",
       "  <thead>\n",
       "    <tr style=\"text-align: right;\">\n",
       "      <th></th>\n",
       "      <th>event_time</th>\n",
       "      <th>event_type</th>\n",
       "      <th>product_id</th>\n",
       "      <th>category_id</th>\n",
       "      <th>brand</th>\n",
       "      <th>price</th>\n",
       "      <th>user_id</th>\n",
       "    </tr>\n",
       "  </thead>\n",
       "  <tbody>\n",
       "    <tr>\n",
       "      <th>count</th>\n",
       "      <td>416960</td>\n",
       "      <td>416960</td>\n",
       "      <td>4.169600e+05</td>\n",
       "      <td>4.169600e+05</td>\n",
       "      <td>252018</td>\n",
       "      <td>416960.000000</td>\n",
       "      <td>416960.000000</td>\n",
       "    </tr>\n",
       "    <tr>\n",
       "      <th>unique</th>\n",
       "      <td>173711</td>\n",
       "      <td>4</td>\n",
       "      <td>NaN</td>\n",
       "      <td>NaN</td>\n",
       "      <td>222</td>\n",
       "      <td>NaN</td>\n",
       "      <td>NaN</td>\n",
       "    </tr>\n",
       "    <tr>\n",
       "      <th>top</th>\n",
       "      <td>2019-10-02 20:37:56 UTC</td>\n",
       "      <td>view</td>\n",
       "      <td>NaN</td>\n",
       "      <td>NaN</td>\n",
       "      <td>runail</td>\n",
       "      <td>NaN</td>\n",
       "      <td>NaN</td>\n",
       "    </tr>\n",
       "    <tr>\n",
       "      <th>freq</th>\n",
       "      <td>102</td>\n",
       "      <td>168854</td>\n",
       "      <td>NaN</td>\n",
       "      <td>NaN</td>\n",
       "      <td>40857</td>\n",
       "      <td>NaN</td>\n",
       "      <td>NaN</td>\n",
       "    </tr>\n",
       "    <tr>\n",
       "      <th>mean</th>\n",
       "      <td>NaN</td>\n",
       "      <td>NaN</td>\n",
       "      <td>5.498022e+06</td>\n",
       "      <td>1.556230e+18</td>\n",
       "      <td>NaN</td>\n",
       "      <td>8.290777</td>\n",
       "      <td>23290.138332</td>\n",
       "    </tr>\n",
       "    <tr>\n",
       "      <th>std</th>\n",
       "      <td>NaN</td>\n",
       "      <td>NaN</td>\n",
       "      <td>1.268679e+06</td>\n",
       "      <td>1.644292e+17</td>\n",
       "      <td>NaN</td>\n",
       "      <td>17.846924</td>\n",
       "      <td>16642.343423</td>\n",
       "    </tr>\n",
       "    <tr>\n",
       "      <th>min</th>\n",
       "      <td>NaN</td>\n",
       "      <td>NaN</td>\n",
       "      <td>3.752000e+03</td>\n",
       "      <td>1.490000e+18</td>\n",
       "      <td>NaN</td>\n",
       "      <td>0.000000</td>\n",
       "      <td>1.000000</td>\n",
       "    </tr>\n",
       "    <tr>\n",
       "      <th>25%</th>\n",
       "      <td>NaN</td>\n",
       "      <td>NaN</td>\n",
       "      <td>5.729011e+06</td>\n",
       "      <td>1.490000e+18</td>\n",
       "      <td>NaN</td>\n",
       "      <td>2.370000</td>\n",
       "      <td>7743.000000</td>\n",
       "    </tr>\n",
       "    <tr>\n",
       "      <th>50%</th>\n",
       "      <td>NaN</td>\n",
       "      <td>NaN</td>\n",
       "      <td>5.809809e+06</td>\n",
       "      <td>1.490000e+18</td>\n",
       "      <td>NaN</td>\n",
       "      <td>4.110000</td>\n",
       "      <td>21213.500000</td>\n",
       "    </tr>\n",
       "    <tr>\n",
       "      <th>75%</th>\n",
       "      <td>NaN</td>\n",
       "      <td>NaN</td>\n",
       "      <td>5.850305e+06</td>\n",
       "      <td>1.490000e+18</td>\n",
       "      <td>NaN</td>\n",
       "      <td>7.270000</td>\n",
       "      <td>37673.000000</td>\n",
       "    </tr>\n",
       "    <tr>\n",
       "      <th>max</th>\n",
       "      <td>NaN</td>\n",
       "      <td>NaN</td>\n",
       "      <td>5.892800e+06</td>\n",
       "      <td>2.200000e+18</td>\n",
       "      <td>NaN</td>\n",
       "      <td>299.810000</td>\n",
       "      <td>53975.000000</td>\n",
       "    </tr>\n",
       "  </tbody>\n",
       "</table>\n",
       "</div>"
      ],
      "text/plain": [
       "                     event_time event_type    product_id   category_id  \\\n",
       "count                    416960     416960  4.169600e+05  4.169600e+05   \n",
       "unique                   173711          4           NaN           NaN   \n",
       "top     2019-10-02 20:37:56 UTC       view           NaN           NaN   \n",
       "freq                        102     168854           NaN           NaN   \n",
       "mean                        NaN        NaN  5.498022e+06  1.556230e+18   \n",
       "std                         NaN        NaN  1.268679e+06  1.644292e+17   \n",
       "min                         NaN        NaN  3.752000e+03  1.490000e+18   \n",
       "25%                         NaN        NaN  5.729011e+06  1.490000e+18   \n",
       "50%                         NaN        NaN  5.809809e+06  1.490000e+18   \n",
       "75%                         NaN        NaN  5.850305e+06  1.490000e+18   \n",
       "max                         NaN        NaN  5.892800e+06  2.200000e+18   \n",
       "\n",
       "         brand          price        user_id  \n",
       "count   252018  416960.000000  416960.000000  \n",
       "unique     222            NaN            NaN  \n",
       "top     runail            NaN            NaN  \n",
       "freq     40857            NaN            NaN  \n",
       "mean       NaN       8.290777   23290.138332  \n",
       "std        NaN      17.846924   16642.343423  \n",
       "min        NaN       0.000000       1.000000  \n",
       "25%        NaN       2.370000    7743.000000  \n",
       "50%        NaN       4.110000   21213.500000  \n",
       "75%        NaN       7.270000   37673.000000  \n",
       "max        NaN     299.810000   53975.000000  "
      ]
     },
     "execution_count": 21,
     "metadata": {},
     "output_type": "execute_result"
    }
   ],
   "source": [
    "cols=['category_code','user_session']\n",
    "train_clear = train.drop(train[train.iloc[:,6]< 0].index)\n",
    "train_clear = train_clear.drop(cols,axis=1)\n",
    "train_clear.describe(include='all')"
   ]
  },
  {
   "cell_type": "code",
   "execution_count": 22,
   "metadata": {},
   "outputs": [
    {
     "data": {
      "text/html": [
       "<div>\n",
       "<style scoped>\n",
       "    .dataframe tbody tr th:only-of-type {\n",
       "        vertical-align: middle;\n",
       "    }\n",
       "\n",
       "    .dataframe tbody tr th {\n",
       "        vertical-align: top;\n",
       "    }\n",
       "\n",
       "    .dataframe thead th {\n",
       "        text-align: right;\n",
       "    }\n",
       "</style>\n",
       "<table border=\"1\" class=\"dataframe\">\n",
       "  <thead>\n",
       "    <tr style=\"text-align: right;\">\n",
       "      <th></th>\n",
       "      <th>event_time</th>\n",
       "      <th>event_type</th>\n",
       "      <th>product_id</th>\n",
       "      <th>category_id</th>\n",
       "      <th>brand</th>\n",
       "      <th>price</th>\n",
       "      <th>user_id</th>\n",
       "    </tr>\n",
       "  </thead>\n",
       "  <tbody>\n",
       "    <tr>\n",
       "      <th>count</th>\n",
       "      <td>5164</td>\n",
       "      <td>5164</td>\n",
       "      <td>5.164000e+03</td>\n",
       "      <td>5.164000e+03</td>\n",
       "      <td>3088</td>\n",
       "      <td>5164.000000</td>\n",
       "      <td>5164.000000</td>\n",
       "    </tr>\n",
       "    <tr>\n",
       "      <th>unique</th>\n",
       "      <td>3620</td>\n",
       "      <td>4</td>\n",
       "      <td>NaN</td>\n",
       "      <td>NaN</td>\n",
       "      <td>125</td>\n",
       "      <td>NaN</td>\n",
       "      <td>NaN</td>\n",
       "    </tr>\n",
       "    <tr>\n",
       "      <th>top</th>\n",
       "      <td>2019-10-03 18:21:08 UTC</td>\n",
       "      <td>view</td>\n",
       "      <td>NaN</td>\n",
       "      <td>NaN</td>\n",
       "      <td>runail</td>\n",
       "      <td>NaN</td>\n",
       "      <td>NaN</td>\n",
       "    </tr>\n",
       "    <tr>\n",
       "      <th>freq</th>\n",
       "      <td>31</td>\n",
       "      <td>2031</td>\n",
       "      <td>NaN</td>\n",
       "      <td>NaN</td>\n",
       "      <td>733</td>\n",
       "      <td>NaN</td>\n",
       "      <td>NaN</td>\n",
       "    </tr>\n",
       "    <tr>\n",
       "      <th>mean</th>\n",
       "      <td>NaN</td>\n",
       "      <td>NaN</td>\n",
       "      <td>5.452999e+06</td>\n",
       "      <td>1.544169e+18</td>\n",
       "      <td>NaN</td>\n",
       "      <td>7.135132</td>\n",
       "      <td>60802.616770</td>\n",
       "    </tr>\n",
       "    <tr>\n",
       "      <th>std</th>\n",
       "      <td>NaN</td>\n",
       "      <td>NaN</td>\n",
       "      <td>1.342040e+06</td>\n",
       "      <td>1.607254e+17</td>\n",
       "      <td>NaN</td>\n",
       "      <td>14.216354</td>\n",
       "      <td>6421.789687</td>\n",
       "    </tr>\n",
       "    <tr>\n",
       "      <th>min</th>\n",
       "      <td>NaN</td>\n",
       "      <td>NaN</td>\n",
       "      <td>3.762000e+03</td>\n",
       "      <td>1.490000e+18</td>\n",
       "      <td>NaN</td>\n",
       "      <td>0.000000</td>\n",
       "      <td>53978.000000</td>\n",
       "    </tr>\n",
       "    <tr>\n",
       "      <th>25%</th>\n",
       "      <td>NaN</td>\n",
       "      <td>NaN</td>\n",
       "      <td>5.711138e+06</td>\n",
       "      <td>1.490000e+18</td>\n",
       "      <td>NaN</td>\n",
       "      <td>2.050000</td>\n",
       "      <td>54193.000000</td>\n",
       "    </tr>\n",
       "    <tr>\n",
       "      <th>50%</th>\n",
       "      <td>NaN</td>\n",
       "      <td>NaN</td>\n",
       "      <td>5.799410e+06</td>\n",
       "      <td>1.490000e+18</td>\n",
       "      <td>NaN</td>\n",
       "      <td>3.800000</td>\n",
       "      <td>66787.000000</td>\n",
       "    </tr>\n",
       "    <tr>\n",
       "      <th>75%</th>\n",
       "      <td>NaN</td>\n",
       "      <td>NaN</td>\n",
       "      <td>5.848896e+06</td>\n",
       "      <td>1.490000e+18</td>\n",
       "      <td>NaN</td>\n",
       "      <td>6.270000</td>\n",
       "      <td>67021.000000</td>\n",
       "    </tr>\n",
       "    <tr>\n",
       "      <th>max</th>\n",
       "      <td>NaN</td>\n",
       "      <td>NaN</td>\n",
       "      <td>5.892678e+06</td>\n",
       "      <td>2.200000e+18</td>\n",
       "      <td>NaN</td>\n",
       "      <td>207.940000</td>\n",
       "      <td>67469.000000</td>\n",
       "    </tr>\n",
       "  </tbody>\n",
       "</table>\n",
       "</div>"
      ],
      "text/plain": [
       "                     event_time event_type    product_id   category_id  \\\n",
       "count                      5164       5164  5.164000e+03  5.164000e+03   \n",
       "unique                     3620          4           NaN           NaN   \n",
       "top     2019-10-03 18:21:08 UTC       view           NaN           NaN   \n",
       "freq                         31       2031           NaN           NaN   \n",
       "mean                        NaN        NaN  5.452999e+06  1.544169e+18   \n",
       "std                         NaN        NaN  1.342040e+06  1.607254e+17   \n",
       "min                         NaN        NaN  3.762000e+03  1.490000e+18   \n",
       "25%                         NaN        NaN  5.711138e+06  1.490000e+18   \n",
       "50%                         NaN        NaN  5.799410e+06  1.490000e+18   \n",
       "75%                         NaN        NaN  5.848896e+06  1.490000e+18   \n",
       "max                         NaN        NaN  5.892678e+06  2.200000e+18   \n",
       "\n",
       "         brand        price       user_id  \n",
       "count     3088  5164.000000   5164.000000  \n",
       "unique     125          NaN           NaN  \n",
       "top     runail          NaN           NaN  \n",
       "freq       733          NaN           NaN  \n",
       "mean       NaN     7.135132  60802.616770  \n",
       "std        NaN    14.216354   6421.789687  \n",
       "min        NaN     0.000000  53978.000000  \n",
       "25%        NaN     2.050000  54193.000000  \n",
       "50%        NaN     3.800000  66787.000000  \n",
       "75%        NaN     6.270000  67021.000000  \n",
       "max        NaN   207.940000  67469.000000  "
      ]
     },
     "execution_count": 22,
     "metadata": {},
     "output_type": "execute_result"
    }
   ],
   "source": [
    "test_clear = test.drop(test[test.iloc[:,6]< 0].index)\n",
    "test_clear = test_clear.drop(cols,axis=1)\n",
    "test_clear.describe(include='all')"
   ]
  },
  {
   "cell_type": "markdown",
   "metadata": {},
   "source": [
    "### 用户画像\n",
    "\n",
    "根据训练集和测试集，分别描绘出客户的理想价钱区间、购物频次和最喜欢的品牌属性。\n",
    "\n",
    "其中，理想价钱区间根据用户的购买记录的价钱的四分位数构成。若该用户没有购买记录，则依据所有客户的购买记录生成理想价钱区间。\n",
    "\n",
    "最喜欢的品牌根据用户的购买、浏览和加入购物车记录的品牌属性的众数构成。若该用户没有上述记录，则依据所有记录的品牌属性的众数构成。"
   ]
  },
  {
   "cell_type": "code",
   "execution_count": 23,
   "metadata": {},
   "outputs": [],
   "source": [
    "user_id_train = set(train_clear['user_id'].tolist())\n",
    "user_id_test = set(test_clear['user_id'].tolist())\n",
    "\n",
    "user_id = np.empty((len(user_id_train),1))\n",
    "percentile_25 = np.empty((len(user_id_train),1))\n",
    "percentile_75 = np.empty((len(user_id_train),1))\n",
    "counts = np.empty((len(user_id_train),1))\n",
    "favoriate_brand = []\n",
    "purchase = train_clear[(train_clear['event_type'] == 'purchase')]\n",
    "price = np.array(purchase['price'])\n",
    "twenty_five = np.percentile(price,0.25)\n",
    "seventy_five = np.percentile(price,0.75)\n",
    "j = 0\n",
    "for i in user_id_train:\n",
    "    user_id[j,0] = i\n",
    "    middle1 = train_clear[(train_clear['user_id'] == i)]\n",
    "    middle2 = middle1[(middle1['event_type'] == 'purchase')]\n",
    "    counts[j,0] = middle2.shape[0]\n",
    "    price = np.array(middle2['price'])\n",
    "    middle3 = middle1[middle1['event_type'].isin(['purchase', 'view', 'cart'])]\n",
    "    favoriate = middle3['brand'].value_counts()\n",
    "    favoriate_data = favoriate.to_frame()\n",
    "    if len(favoriate_data):\n",
    "        favoriate_brand.append(favoriate_data[0:1]._stat_axis.values[0])\n",
    "    else:\n",
    "        favoriate_brand.append('runail')\n",
    "    if len(price):\n",
    "        percentile_25[j,0] = np.percentile(price,0.25)\n",
    "        percentile_75[j,0] = np.percentile(price,0.75)\n",
    "    else:\n",
    "        percentile_25[j,0] = twenty_five\n",
    "        percentile_75[j,0] = seventy_five\n",
    "    j = j + 1\n",
    "user_describe_train = pd.DataFrame(user_id)\n",
    "user_describe_train.columns=['user_id']\n",
    "user_describe_train['25%']=percentile_25\n",
    "user_describe_train['75%']=percentile_75\n",
    "user_describe_train['purchase_counts']=counts\n",
    "user_describe_train['favoriate_brand']=favoriate_brand\n",
    "\n",
    "user_id = np.empty((len(user_id_test),1))\n",
    "percentile_25 = np.empty((len(user_id_test),1))\n",
    "percentile_75 = np.empty((len(user_id_test),1))\n",
    "counts = np.empty((len(user_id_test),1))\n",
    "favoriate_brand = []\n",
    "purchase = test_clear[(test_clear['event_type'] == 'purchase')]\n",
    "price = np.array(purchase['price'])\n",
    "twenty_five = np.percentile(price,0.25)\n",
    "seventy_five = np.percentile(price,0.75)\n",
    "j = 0\n",
    "for i in user_id_test:\n",
    "    user_id[j,0] = i\n",
    "    middle1 = test_clear[(test_clear['user_id'] == i)]\n",
    "    middle2 = middle1[(middle1['event_type'] == 'purchase')]\n",
    "    counts[j,0] = middle2.shape[0]\n",
    "    price = np.array(middle2['price'])\n",
    "    middle3 = middle1[middle1['event_type'].isin(['purchase', 'view', 'cart'])]\n",
    "    favoriate = middle3['brand'].value_counts()\n",
    "    favoriate_data = favoriate.to_frame() \n",
    "    if len(favoriate_data):\n",
    "        favoriate_brand.append(favoriate_data[0:1]._stat_axis.values[0]) \n",
    "    else:\n",
    "        favoriate_brand.append('runail') \n",
    "    if len(price):\n",
    "        percentile_25[j,0] = np.percentile(price,0.25)\n",
    "        percentile_75[j,0] = np.percentile(price,0.75)\n",
    "    else:\n",
    "        percentile_25[j,0] = twenty_five\n",
    "        percentile_75[j,0] = seventy_five\n",
    "    j = j + 1\n",
    "user_describe_test = pd.DataFrame(user_id)\n",
    "user_describe_test.columns=['user_id']\n",
    "user_describe_test['25%']=percentile_25\n",
    "user_describe_test['75%']=percentile_75\n",
    "user_describe_test['purchase_counts']=counts\n",
    "user_describe_test['favoriate_brand']=favoriate_brand"
   ]
  },
  {
   "cell_type": "code",
   "execution_count": 24,
   "metadata": {},
   "outputs": [
    {
     "data": {
      "text/html": [
       "<div>\n",
       "<style scoped>\n",
       "    .dataframe tbody tr th:only-of-type {\n",
       "        vertical-align: middle;\n",
       "    }\n",
       "\n",
       "    .dataframe tbody tr th {\n",
       "        vertical-align: top;\n",
       "    }\n",
       "\n",
       "    .dataframe thead th {\n",
       "        text-align: right;\n",
       "    }\n",
       "</style>\n",
       "<table border=\"1\" class=\"dataframe\">\n",
       "  <thead>\n",
       "    <tr style=\"text-align: right;\">\n",
       "      <th></th>\n",
       "      <th>user_id</th>\n",
       "      <th>25%</th>\n",
       "      <th>75%</th>\n",
       "      <th>purchase_counts</th>\n",
       "      <th>favoriate_brand</th>\n",
       "    </tr>\n",
       "  </thead>\n",
       "  <tbody>\n",
       "    <tr>\n",
       "      <th>0</th>\n",
       "      <td>1.0</td>\n",
       "      <td>0.32360</td>\n",
       "      <td>0.33080</td>\n",
       "      <td>19.0</td>\n",
       "      <td>runail</td>\n",
       "    </tr>\n",
       "    <tr>\n",
       "      <th>1</th>\n",
       "      <td>2.0</td>\n",
       "      <td>0.08480</td>\n",
       "      <td>0.09440</td>\n",
       "      <td>7.0</td>\n",
       "      <td>nagaraku</td>\n",
       "    </tr>\n",
       "    <tr>\n",
       "      <th>2</th>\n",
       "      <td>3.0</td>\n",
       "      <td>0.22000</td>\n",
       "      <td>0.30000</td>\n",
       "      <td>0.0</td>\n",
       "      <td>runail</td>\n",
       "    </tr>\n",
       "    <tr>\n",
       "      <th>3</th>\n",
       "      <td>4.0</td>\n",
       "      <td>0.22000</td>\n",
       "      <td>0.30000</td>\n",
       "      <td>0.0</td>\n",
       "      <td>estel</td>\n",
       "    </tr>\n",
       "    <tr>\n",
       "      <th>4</th>\n",
       "      <td>5.0</td>\n",
       "      <td>0.29255</td>\n",
       "      <td>0.29765</td>\n",
       "      <td>35.0</td>\n",
       "      <td>runail</td>\n",
       "    </tr>\n",
       "  </tbody>\n",
       "</table>\n",
       "</div>"
      ],
      "text/plain": [
       "   user_id      25%      75%  purchase_counts favoriate_brand\n",
       "0      1.0  0.32360  0.33080             19.0          runail\n",
       "1      2.0  0.08480  0.09440              7.0        nagaraku\n",
       "2      3.0  0.22000  0.30000              0.0          runail\n",
       "3      4.0  0.22000  0.30000              0.0           estel\n",
       "4      5.0  0.29255  0.29765             35.0          runail"
      ]
     },
     "execution_count": 24,
     "metadata": {},
     "output_type": "execute_result"
    }
   ],
   "source": [
    "user_describe_train.head()"
   ]
  },
  {
   "cell_type": "code",
   "execution_count": 25,
   "metadata": {},
   "outputs": [
    {
     "data": {
      "text/html": [
       "<div>\n",
       "<style scoped>\n",
       "    .dataframe tbody tr th:only-of-type {\n",
       "        vertical-align: middle;\n",
       "    }\n",
       "\n",
       "    .dataframe tbody tr th {\n",
       "        vertical-align: top;\n",
       "    }\n",
       "\n",
       "    .dataframe thead th {\n",
       "        text-align: right;\n",
       "    }\n",
       "</style>\n",
       "<table border=\"1\" class=\"dataframe\">\n",
       "  <thead>\n",
       "    <tr style=\"text-align: right;\">\n",
       "      <th></th>\n",
       "      <th>user_id</th>\n",
       "      <th>25%</th>\n",
       "      <th>75%</th>\n",
       "      <th>purchase_counts</th>\n",
       "      <th>favoriate_brand</th>\n",
       "    </tr>\n",
       "  </thead>\n",
       "  <tbody>\n",
       "    <tr>\n",
       "      <th>0</th>\n",
       "      <td>53978.0</td>\n",
       "      <td>0.226875</td>\n",
       "      <td>0.3200</td>\n",
       "      <td>0.0</td>\n",
       "      <td>runail</td>\n",
       "    </tr>\n",
       "    <tr>\n",
       "      <th>1</th>\n",
       "      <td>53980.0</td>\n",
       "      <td>0.794400</td>\n",
       "      <td>0.8032</td>\n",
       "      <td>3.0</td>\n",
       "      <td>runail</td>\n",
       "    </tr>\n",
       "    <tr>\n",
       "      <th>2</th>\n",
       "      <td>53982.0</td>\n",
       "      <td>0.226875</td>\n",
       "      <td>0.3200</td>\n",
       "      <td>0.0</td>\n",
       "      <td>cnd</td>\n",
       "    </tr>\n",
       "    <tr>\n",
       "      <th>3</th>\n",
       "      <td>53985.0</td>\n",
       "      <td>0.226875</td>\n",
       "      <td>0.3200</td>\n",
       "      <td>0.0</td>\n",
       "      <td>metzger</td>\n",
       "    </tr>\n",
       "    <tr>\n",
       "      <th>4</th>\n",
       "      <td>53986.0</td>\n",
       "      <td>0.226875</td>\n",
       "      <td>0.3200</td>\n",
       "      <td>0.0</td>\n",
       "      <td>runail</td>\n",
       "    </tr>\n",
       "  </tbody>\n",
       "</table>\n",
       "</div>"
      ],
      "text/plain": [
       "   user_id       25%     75%  purchase_counts favoriate_brand\n",
       "0  53978.0  0.226875  0.3200              0.0          runail\n",
       "1  53980.0  0.794400  0.8032              3.0          runail\n",
       "2  53982.0  0.226875  0.3200              0.0             cnd\n",
       "3  53985.0  0.226875  0.3200              0.0         metzger\n",
       "4  53986.0  0.226875  0.3200              0.0          runail"
      ]
     },
     "execution_count": 25,
     "metadata": {},
     "output_type": "execute_result"
    }
   ],
   "source": [
    "user_describe_test.head()"
   ]
  }
 ],
 "metadata": {
  "kernelspec": {
   "display_name": "Python 3",
   "language": "python",
   "name": "python3"
  },
  "language_info": {
   "codemirror_mode": {
    "name": "ipython",
    "version": 3
   },
   "file_extension": ".py",
   "mimetype": "text/x-python",
   "name": "python",
   "nbconvert_exporter": "python",
   "pygments_lexer": "ipython3",
   "version": "3.8.5"
  }
 },
 "nbformat": 4,
 "nbformat_minor": 4
}
